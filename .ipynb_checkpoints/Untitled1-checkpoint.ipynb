{
 "cells": [
  {
   "cell_type": "code",
   "execution_count": 320,
   "metadata": {},
   "outputs": [],
   "source": [
    "import numpy as np\n",
    "from scipy.linalg import sqrtm\n",
    "from sklearn.cluster import KMeans\n",
    "from sklearn.cluster import SpectralClustering"
   ]
  },
  {
   "cell_type": "code",
   "execution_count": 321,
   "metadata": {},
   "outputs": [],
   "source": [
    "g1 = np.random.normal(loc=10, scale=1, size=(10, 100))\n",
    "g2 = np.random.normal(loc=0, scale=1, size=(10, 100))\n",
    "g3 = np.random.normal(loc=-10, scale=1, size=(10, 100))\n",
    "g4 = np.random.normal(loc=40, scale=1, size=(10, 100))\n",
    "g5 = np.random.normal(loc=-40, scale=1, size=(10, 100))"
   ]
  },
  {
   "cell_type": "code",
   "execution_count": 322,
   "metadata": {},
   "outputs": [
    {
     "name": "stdout",
     "output_type": "stream",
     "text": [
      "(50, 100)\n"
     ]
    }
   ],
   "source": [
    "sparse_coeffs = np.vstack([g1, g2, g3, g4, g5])\n",
    "print(sparse_coeffs.shape)"
   ]
  },
  {
   "cell_type": "code",
   "execution_count": 323,
   "metadata": {},
   "outputs": [
    {
     "name": "stdout",
     "output_type": "stream",
     "text": [
      "2606\n"
     ]
    }
   ],
   "source": [
    "count = np.random.randint(0, 100, size=(50))\n",
    "count_sum = np.sum(count)\n",
    "print(count_sum)"
   ]
  },
  {
   "cell_type": "code",
   "execution_count": 324,
   "metadata": {},
   "outputs": [
    {
     "name": "stdout",
     "output_type": "stream",
     "text": [
      "[0.02839601 0.00076746 0.0257099  0.0333845  0.00460476 0.02839601\n",
      " 0.02647736 0.02916347 0.00805833 0.01343054 0.02916347 0.02455871\n",
      " 0.01611665 0.03415196 0.00038373 0.00959325 0.00882579 0.02494244\n",
      " 0.0076746  0.02417498 0.00613968 0.03683807 0.03683807 0.02532617\n",
      " 0.         0.03184958 0.0076746  0.03798926 0.03530315 0.00422103\n",
      " 0.02609363 0.02455871 0.0295472  0.014198   0.00844206 0.03491942\n",
      " 0.02877974 0.02839601 0.00345357 0.00422103 0.01573292 0.02494244\n",
      " 0.02686109 0.01611665 0.02340752 0.02647736 0.01189563 0.02532617\n",
      " 0.01841903 0.00805833]\n"
     ]
    }
   ],
   "source": [
    "freq = count / count_sum\n",
    "print(freq)"
   ]
  },
  {
   "cell_type": "code",
   "execution_count": 325,
   "metadata": {},
   "outputs": [
    {
     "data": {
      "text/plain": [
       "array([[108.66958278, 106.4181564 , 126.39251721, ..., 127.78806952,\n",
       "        106.84077777,  92.86783679],\n",
       "       [106.4181564 , 104.21337527, 123.77390545, ..., 125.14054457,\n",
       "        104.62724073,  90.94379243],\n",
       "       [126.39251721, 123.77390545, 147.00588701, ..., 148.6290401 ,\n",
       "        124.26545219, 108.0136627 ],\n",
       "       ...,\n",
       "       [127.78806952, 125.14054457, 148.6290401 , ..., 150.27011509,\n",
       "        125.63751868, 109.20628644],\n",
       "       [106.84077777, 104.62724073, 124.26545219, ..., 125.63751868,\n",
       "        105.04274979,  91.30496003],\n",
       "       [ 92.86783679,  90.94379243, 108.0136627 , ..., 109.20628644,\n",
       "         91.30496003,  79.36383752]])"
      ]
     },
     "execution_count": 325,
     "metadata": {},
     "output_type": "execute_result"
    }
   ],
   "source": [
    "np.outer(sparse_coeffs[0], sparse_coeffs[0])"
   ]
  },
  {
   "cell_type": "code",
   "execution_count": 326,
   "metadata": {},
   "outputs": [
    {
     "name": "stdout",
     "output_type": "stream",
     "text": [
      "(100,)\n"
     ]
    }
   ],
   "source": [
    "stds = np.std(sparse_coeffs, axis=0)\n",
    "print(stds.shape)"
   ]
  },
  {
   "cell_type": "code",
   "execution_count": 327,
   "metadata": {},
   "outputs": [
    {
     "data": {
      "text/plain": [
       "(50, 100)"
      ]
     },
     "execution_count": 327,
     "metadata": {},
     "output_type": "execute_result"
    }
   ],
   "source": [
    "sparse_norm = sparse_coeffs / stds\n",
    "sparse_norm.shape"
   ]
  },
  {
   "cell_type": "code",
   "execution_count": 328,
   "metadata": {},
   "outputs": [],
   "source": [
    "W = np.sum([np.outer(s_c, s_c)[None, :, :] for s_c in sparse_norm], axis=0).squeeze() - np.identity(sparse_coeffs.shape[1])"
   ]
  },
  {
   "cell_type": "code",
   "execution_count": 329,
   "metadata": {},
   "outputs": [
    {
     "data": {
      "text/plain": [
       "(100, 100)"
      ]
     },
     "execution_count": 329,
     "metadata": {},
     "output_type": "execute_result"
    }
   ],
   "source": [
    "W.shape"
   ]
  },
  {
   "cell_type": "code",
   "execution_count": 330,
   "metadata": {},
   "outputs": [
    {
     "data": {
      "text/plain": [
       "array([[ 0,  1,  2,  3,  4,  5,  6,  7,  8,  9, 10, 11, 12, 13, 14, 15,\n",
       "        16, 17, 18, 19, 20, 21, 22, 23, 24, 25, 26, 27, 28, 29, 30, 31,\n",
       "        32, 33, 34, 35, 36, 37, 38, 39, 40, 41, 42, 43, 44, 45, 46, 47,\n",
       "        48, 49, 50, 51, 52, 53, 54, 55, 56, 57, 58, 59, 60, 61, 62, 63,\n",
       "        64, 65, 66, 67, 68, 69, 70, 71, 72, 73, 74, 75, 76, 77, 78, 79,\n",
       "        80, 81, 82, 83, 84, 85, 86, 87, 88, 89, 90, 91, 92, 93, 94, 95,\n",
       "        96, 97, 98, 99],\n",
       "       [52, 48, 36, 11, 28, 65, 63,  0,  9,  8, 52,  3, 34, 19,  2, 48,\n",
       "        77, 10, 84, 52, 28, 52, 47, 15, 21, 90, 30, 29, 67, 65, 55, 33,\n",
       "        48, 77, 28, 55,  2, 74, 30, 34, 88,  0, 37, 36, 65, 52, 67, 68,\n",
       "        65, 21, 21, 34,  0, 30, 21, 30, 47,  0, 55, 88, 11,  6, 11, 28,\n",
       "        13, 77, 28, 28, 47, 28, 21, 36, 70, 90, 52, 11,  2, 65, 19, 38,\n",
       "        62, 15, 11,  1, 34, 52, 66, 29, 67, 65, 21,  8, 65, 36, 65, 47,\n",
       "        47, 68, 65, 52],\n",
       "       [77, 83, 14, 48, 17, 74, 77, 88, 30, 24, 17, 62, 70, 77, 90, 33,\n",
       "        39,  6, 13, 38, 11, 49, 34,  8, 28, 55, 70, 11, 63, 36, 67,  2,\n",
       "        30, 21, 84, 36, 89, 30, 21, 11, 83, 25, 85, 67, 52, 35, 34, 11,\n",
       "         1,  8,  2, 65, 74,  0, 52, 28, 36, 11, 65, 36, 38, 28, 34,  6,\n",
       "        55, 48, 88, 30, 11, 65, 67, 68, 33, 55, 37,  2, 47, 28,  2, 19,\n",
       "        28, 65,  8, 52, 18, 48, 11, 28, 38, 36, 25, 89,  8, 52, 50, 52,\n",
       "         2, 28, 17, 84],\n",
       "       [41, 65, 52, 88, 14, 39, 17, 19, 63, 10, 28, 47, 30, 18, 35, 23,\n",
       "        64, 38, 30, 13, 52, 90, 65,  0,  6, 41,  2, 21, 66, 67, 38, 11,\n",
       "        39, 31, 62, 14, 74, 28, 19,  2, 34, 34, 63, 68, 21, 79, 66, 95,\n",
       "        50, 68, 47, 11, 21, 63,  8, 35, 28, 70, 13, 39, 65, 68,  2,  8,\n",
       "        53, 44, 19, 88, 74, 36, 47, 66, 34, 47, 36, 25, 25, 33, 55, 11,\n",
       "        70, 87, 36, 34, 37, 11, 52, 10, 66, 19, 28, 13, 90, 28, 67, 36,\n",
       "        30,  0, 67, 53],\n",
       "       [53, 21, 50, 28, 36, 87, 11, 52, 47, 41, 47, 39, 66, 34, 52, 13,\n",
       "        30, 44, 22, 89, 17, 38, 18, 67, 88, 21, 97,  0, 34, 27, 53, 47,\n",
       "        25, 65, 52, 50, 29, 21, 88, 33, 17, 28, 36, 34, 17, 53,  6, 38,\n",
       "        15, 15, 48, 90, 19, 77, 28, 25, 44, 65, 14,  0,  8,  0,  8, 65,\n",
       "        11, 89, 21, 21, 97, 83, 26, 11, 50, 66, 47, 17, 77,  6, 88,  8,\n",
       "        74, 67, 66, 77, 66, 39, 17, 21, 89, 88, 88, 52, 33, 30, 39, 11,\n",
       "        70, 26, 25, 24]])"
      ]
     },
     "execution_count": 330,
     "metadata": {},
     "output_type": "execute_result"
    }
   ],
   "source": [
    "sorted_ = np.argsort(W, axis=1)[:5, :]\n",
    "sorted_.shape\n",
    "sorted_"
   ]
  },
  {
   "cell_type": "code",
   "execution_count": 377,
   "metadata": {},
   "outputs": [
    {
     "data": {
      "text/plain": [
       "array([49.94157291, 49.94976516, 49.94546431, 49.95057929, 49.9537205 ,\n",
       "       49.95710174, 49.94533375, 49.94788469, 49.94038476, 49.94600645,\n",
       "       49.94704279, 49.94432258, 49.95686965, 49.95182067, 49.9466805 ,\n",
       "       49.94697632, 49.94869124, 49.94212032, 49.94846693, 49.93643397,\n",
       "       49.95470272, 49.93799775, 49.9535666 , 49.95474518, 49.94117241,\n",
       "       49.94162405, 49.94571917, 49.95123271, 49.94009797, 49.95479232,\n",
       "       49.94331578, 49.94797859, 49.94656859, 49.94128847, 49.94252519,\n",
       "       49.94611388, 49.94224867, 49.94545511, 49.94610503, 49.94143745,\n",
       "       49.96499992, 49.95064106, 49.95389984, 49.95141764, 49.94373135,\n",
       "       49.95175844, 49.94820268, 49.9397339 , 49.94618437, 49.94945203,\n",
       "       49.94719166, 49.95365207, 49.93844239, 49.94973308, 49.9512323 ,\n",
       "       49.9465679 , 49.95202765, 49.95407032, 49.94611388, 49.95702467,\n",
       "       49.95586493, 49.95500631, 49.94867876, 49.94786266, 49.94405996,\n",
       "       49.93388881, 49.94203586, 49.94625521, 49.94496591, 49.95480753,\n",
       "       49.93742796, 49.95693158, 49.95105683, 49.94955771, 49.94811964,\n",
       "       49.961568  , 49.950461  , 49.94440342, 49.94592371, 49.94213418,\n",
       "       49.95157755, 49.96195326, 49.95380531, 49.94191298, 49.94666801,\n",
       "       49.95033546, 49.95693158, 49.9532018 , 49.94467555, 49.9474138 ,\n",
       "       49.94548668, 49.95038223, 49.95066784, 49.95139935, 49.95474518,\n",
       "       49.94905588, 49.95923909, 49.95198347, 49.95418259, 49.94848189])"
      ]
     },
     "execution_count": 377,
     "metadata": {},
     "output_type": "execute_result"
    }
   ],
   "source": [
    "sorted_ = np.sort(W, axis=1)[:, -5]\n",
    "len(sorted_)\n",
    "sorted_"
   ]
  },
  {
   "cell_type": "code",
   "execution_count": 378,
   "metadata": {},
   "outputs": [
    {
     "data": {
      "text/plain": [
       "(array([45, 56, 68, 76, 78]),)"
      ]
     },
     "execution_count": 378,
     "metadata": {},
     "output_type": "execute_result"
    }
   ],
   "source": [
    "np.where(W[0, :] >= sorted_[0], W[0, :], 0).nonzero()"
   ]
  },
  {
   "cell_type": "code",
   "execution_count": 379,
   "metadata": {},
   "outputs": [],
   "source": [
    "W_sp = np.vstack([np.where(W[i, :] >= sorted_[i], W[i, :], 0)[None, :] for i in range(len(sorted_))])"
   ]
  },
  {
   "cell_type": "code",
   "execution_count": 381,
   "metadata": {},
   "outputs": [
    {
     "data": {
      "text/plain": [
       "array([ 0.        ,  0.        ,  0.        ,  0.        ,  0.        ,\n",
       "        0.        ,  0.        ,  0.        ,  0.        ,  0.        ,\n",
       "        0.        ,  0.        ,  0.        ,  0.        ,  0.        ,\n",
       "        0.        ,  0.        ,  0.        ,  0.        ,  0.        ,\n",
       "        0.        ,  0.        ,  0.        ,  0.        ,  0.        ,\n",
       "        0.        ,  0.        ,  0.        ,  0.        ,  0.        ,\n",
       "        0.        ,  0.        ,  0.        ,  0.        ,  0.        ,\n",
       "        0.        ,  0.        ,  0.        ,  0.        ,  0.        ,\n",
       "        0.        ,  0.        ,  0.        ,  0.        ,  0.        ,\n",
       "       49.94157291,  0.        ,  0.        ,  0.        ,  0.        ,\n",
       "        0.        ,  0.        ,  0.        ,  0.        ,  0.        ,\n",
       "        0.        , 49.94385343,  0.        ,  0.        ,  0.        ,\n",
       "        0.        ,  0.        ,  0.        ,  0.        ,  0.        ,\n",
       "        0.        ,  0.        ,  0.        , 49.94306937,  0.        ,\n",
       "        0.        ,  0.        ,  0.        ,  0.        ,  0.        ,\n",
       "        0.        , 49.94574806,  0.        , 49.94491219,  0.        ,\n",
       "        0.        ,  0.        ,  0.        ,  0.        ,  0.        ,\n",
       "        0.        ,  0.        ,  0.        ,  0.        ,  0.        ,\n",
       "        0.        ,  0.        ,  0.        ,  0.        ,  0.        ,\n",
       "        0.        ,  0.        ,  0.        ,  0.        ,  0.        ])"
      ]
     },
     "execution_count": 381,
     "metadata": {},
     "output_type": "execute_result"
    }
   ],
   "source": [
    "W_sp[0]"
   ]
  },
  {
   "cell_type": "code",
   "execution_count": 382,
   "metadata": {},
   "outputs": [
    {
     "data": {
      "text/plain": [
       "(100, 100)"
      ]
     },
     "execution_count": 382,
     "metadata": {},
     "output_type": "execute_result"
    }
   ],
   "source": [
    "W_adj = W_sp + W_sp.T\n",
    "W_adj.shape"
   ]
  },
  {
   "cell_type": "code",
   "execution_count": 383,
   "metadata": {},
   "outputs": [],
   "source": [
    "D = np.diag(np.sum(W_adj, axis=1))"
   ]
  },
  {
   "cell_type": "code",
   "execution_count": 384,
   "metadata": {},
   "outputs": [
    {
     "data": {
      "text/plain": [
       "array([[0.06328111, 0.        , 0.        , ..., 0.        , 0.        ,\n",
       "        0.        ],\n",
       "       [0.        , 0.04716252, 0.        , ..., 0.        , 0.        ,\n",
       "        0.        ],\n",
       "       [0.        , 0.        , 0.05348013, ..., 0.        , 0.        ,\n",
       "        0.        ],\n",
       "       ...,\n",
       "       [0.        , 0.        , 0.        , ..., 0.04084356, 0.        ,\n",
       "        0.        ],\n",
       "       [0.        , 0.        , 0.        , ..., 0.        , 0.03781307,\n",
       "        0.        ],\n",
       "       [0.        , 0.        , 0.        , ..., 0.        , 0.        ,\n",
       "        0.05347802]])"
      ]
     },
     "execution_count": 384,
     "metadata": {},
     "output_type": "execute_result"
    }
   ],
   "source": [
    "D_sq_inv = np.linalg.inv(sqrtm(D))\n",
    "D_sq_inv"
   ]
  },
  {
   "cell_type": "code",
   "execution_count": 385,
   "metadata": {},
   "outputs": [],
   "source": [
    "L_sym = np.identity(W_adj.shape[0]) - np.dot(D_sq_inv, np.dot(W_adj, D_sq_inv))"
   ]
  },
  {
   "cell_type": "code",
   "execution_count": 386,
   "metadata": {},
   "outputs": [
    {
     "data": {
      "text/plain": [
       "array([[ 1.        ,  0.        ,  0.        , ...,  0.        ,\n",
       "         0.        ,  0.        ],\n",
       "       [ 0.        ,  1.        ,  0.        , ...,  0.        ,\n",
       "         0.        , -0.25197487],\n",
       "       [ 0.        ,  0.        ,  1.        , ...,  0.        ,\n",
       "         0.        ,  0.        ],\n",
       "       ...,\n",
       "       [ 0.        ,  0.        ,  0.        , ...,  1.        ,\n",
       "         0.        ,  0.        ],\n",
       "       [ 0.        ,  0.        ,  0.        , ...,  0.        ,\n",
       "         1.        ,  0.        ],\n",
       "       [ 0.        , -0.25197487,  0.        , ...,  0.        ,\n",
       "         0.        ,  1.        ]])"
      ]
     },
     "execution_count": 386,
     "metadata": {},
     "output_type": "execute_result"
    }
   ],
   "source": [
    "L_sym"
   ]
  },
  {
   "cell_type": "code",
   "execution_count": 387,
   "metadata": {},
   "outputs": [
    {
     "data": {
      "text/plain": [
       "True"
      ]
     },
     "execution_count": 387,
     "metadata": {},
     "output_type": "execute_result"
    }
   ],
   "source": [
    "np.all(np.isclose(L_sym, L_sym.T))"
   ]
  },
  {
   "cell_type": "code",
   "execution_count": 388,
   "metadata": {},
   "outputs": [],
   "source": [
    "vals, vecs = np.linalg.eig(L_sym)"
   ]
  },
  {
   "cell_type": "code",
   "execution_count": 389,
   "metadata": {},
   "outputs": [],
   "source": [
    "# vecs = vecs[:, np.argsort(vals)]\n",
    "# vals = vals[np.argsort(vals)]"
   ]
  },
  {
   "cell_type": "code",
   "execution_count": 390,
   "metadata": {},
   "outputs": [],
   "source": [
    "V = vecs[:, :5]"
   ]
  },
  {
   "cell_type": "code",
   "execution_count": 391,
   "metadata": {},
   "outputs": [],
   "source": [
    "U = V / np.linalg.norm(V, axis=1)[:, None]"
   ]
  },
  {
   "cell_type": "code",
   "execution_count": 392,
   "metadata": {},
   "outputs": [
    {
     "data": {
      "text/plain": [
       "(100, 5)"
      ]
     },
     "execution_count": 392,
     "metadata": {},
     "output_type": "execute_result"
    }
   ],
   "source": [
    "U.shape"
   ]
  },
  {
   "cell_type": "code",
   "execution_count": 393,
   "metadata": {},
   "outputs": [],
   "source": [
    "kmeans = KMeans(n_clusters=5)\n",
    "kmeans.fit(U)\n",
    "colors = kmeans.labels_"
   ]
  },
  {
   "cell_type": "code",
   "execution_count": 394,
   "metadata": {},
   "outputs": [
    {
     "data": {
      "text/plain": [
       "array([2, 1, 0, 2, 1, 0, 3, 2, 0, 2, 0, 1, 1, 2, 0, 0, 3, 4, 0, 0, 1, 4,\n",
       "       1, 3, 1, 4, 2, 3, 3, 1, 0, 0, 0, 2, 1, 1, 3, 1, 1, 3, 0, 1, 2, 2,\n",
       "       0, 2, 0, 0, 2, 2, 1, 1, 0, 2, 0, 1, 0, 0, 4, 1, 2, 1, 1, 0, 1, 2,\n",
       "       2, 1, 1, 0, 3, 0, 3, 2, 0, 0, 2, 4, 3, 3, 1, 1, 3, 2, 2, 2, 0, 0,\n",
       "       3, 4, 1, 0, 0, 1, 3, 4, 2, 0, 2, 1], dtype=int32)"
      ]
     },
     "execution_count": 394,
     "metadata": {},
     "output_type": "execute_result"
    }
   ],
   "source": [
    "colors"
   ]
  },
  {
   "cell_type": "code",
   "execution_count": 395,
   "metadata": {},
   "outputs": [
    {
     "data": {
      "text/plain": [
       "array([3, 2, 0, 1, 0, 3, 1, 0, 3, 1, 0, 3, 2, 1, 3, 4, 0, 4, 0, 0, 2, 4,\n",
       "       2, 3, 3, 4, 1, 1, 1, 4, 3, 3, 0, 1, 3, 4, 3, 2, 2, 1, 4, 2, 1, 0,\n",
       "       0, 3, 0, 3, 3, 3, 3, 0, 4, 1, 4, 3, 0, 4, 4, 2, 3, 0, 3, 4, 0, 1,\n",
       "       3, 2, 2, 4, 3, 0, 4, 1, 0, 3, 1, 4, 1, 1, 2, 3, 1, 1, 1, 3, 0, 0,\n",
       "       0, 4, 2, 0, 0, 0, 1, 2, 1, 0, 0, 2])"
      ]
     },
     "execution_count": 395,
     "metadata": {},
     "output_type": "execute_result"
    }
   ],
   "source": [
    "clustering = SpectralClustering(n_clusters=5,\n",
    "                                affinity='precomputed',\n",
    "                                assign_labels='discretize',\n",
    "                                random_state=0).fit(W_adj)\n",
    "clustering.labels_"
   ]
  },
  {
   "cell_type": "code",
   "execution_count": null,
   "metadata": {},
   "outputs": [],
   "source": []
  },
  {
   "cell_type": "code",
   "execution_count": null,
   "metadata": {},
   "outputs": [],
   "source": []
  }
 ],
 "metadata": {
  "kernelspec": {
   "display_name": "Python 3",
   "language": "python",
   "name": "python3"
  },
  "language_info": {
   "codemirror_mode": {
    "name": "ipython",
    "version": 3
   },
   "file_extension": ".py",
   "mimetype": "text/x-python",
   "name": "python",
   "nbconvert_exporter": "python",
   "pygments_lexer": "ipython3",
   "version": "3.7.4"
  }
 },
 "nbformat": 4,
 "nbformat_minor": 4
}
