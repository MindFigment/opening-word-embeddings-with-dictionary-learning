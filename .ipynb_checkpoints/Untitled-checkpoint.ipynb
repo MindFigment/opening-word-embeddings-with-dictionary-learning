{
 "cells": [
  {
   "cell_type": "code",
   "execution_count": 2,
   "metadata": {},
   "outputs": [],
   "source": [
    "import csv\n",
    "import numpy as np"
   ]
  },
  {
   "cell_type": "code",
   "execution_count": 3,
   "metadata": {},
   "outputs": [],
   "source": [
    "path = \"/home/stanislaw/Documents/datasets/glove6B/glove.6B.50d.txt\""
   ]
  },
  {
   "cell_type": "code",
   "execution_count": 4,
   "metadata": {},
   "outputs": [],
   "source": [
    "with open(path, \"rt\") as f:\n",
    "    spliter = lambda x: [x.split(\" \")[0], np.array(x[:-1].split(\" \")[1:], dtype=float)]\n",
    "    w_emb = dict(map(spliter, f.readlines()))"
   ]
  },
  {
   "cell_type": "code",
   "execution_count": 5,
   "metadata": {},
   "outputs": [
    {
     "data": {
      "text/plain": [
       "(400000, 50)"
      ]
     },
     "execution_count": 5,
     "metadata": {},
     "output_type": "execute_result"
    }
   ],
   "source": [
    "len(w_emb), w_emb[\"the\"].shape[0]"
   ]
  },
  {
   "cell_type": "code",
   "execution_count": 6,
   "metadata": {},
   "outputs": [],
   "source": [
    "n = 1000\n",
    "d = 50\n",
    "Base = np.random.normal(size=(d, n))\n",
    "y_gen = list(w_emb.values())"
   ]
  },
  {
   "cell_type": "code",
   "execution_count": 7,
   "metadata": {},
   "outputs": [
    {
     "data": {
      "text/plain": [
       "array([ 4.1800e-01,  2.4968e-01, -4.1242e-01,  1.2170e-01,  3.4527e-01,\n",
       "       -4.4457e-02, -4.9688e-01, -1.7862e-01, -6.6023e-04, -6.5660e-01,\n",
       "        2.7843e-01, -1.4767e-01, -5.5677e-01,  1.4658e-01, -9.5095e-03,\n",
       "        1.1658e-02,  1.0204e-01, -1.2792e-01, -8.4430e-01, -1.2181e-01,\n",
       "       -1.6801e-02, -3.3279e-01, -1.5520e-01, -2.3131e-01, -1.9181e-01,\n",
       "       -1.8823e+00, -7.6746e-01,  9.9051e-02, -4.2125e-01, -1.9526e-01,\n",
       "        4.0071e+00, -1.8594e-01, -5.2287e-01, -3.1681e-01,  5.9213e-04,\n",
       "        7.4449e-03,  1.7778e-01, -1.5897e-01,  1.2041e-02, -5.4223e-02,\n",
       "       -2.9871e-01, -1.5749e-01, -3.4758e-01, -4.5637e-02, -4.4251e-01,\n",
       "        1.8785e-01,  2.7849e-03, -1.8411e-01, -1.1514e-01, -7.8581e-01])"
      ]
     },
     "execution_count": 7,
     "metadata": {},
     "output_type": "execute_result"
    }
   ],
   "source": [
    "y_gen[0]"
   ]
  },
  {
   "cell_type": "code",
   "execution_count": 8,
   "metadata": {},
   "outputs": [],
   "source": [
    "y = np.vstack(list(y_gen)).T"
   ]
  },
  {
   "cell_type": "code",
   "execution_count": 9,
   "metadata": {},
   "outputs": [
    {
     "data": {
      "text/plain": [
       "(50, 400000)"
      ]
     },
     "execution_count": 9,
     "metadata": {},
     "output_type": "execute_result"
    }
   ],
   "source": [
    "y.shape"
   ]
  },
  {
   "cell_type": "code",
   "execution_count": 6,
   "metadata": {},
   "outputs": [],
   "source": [
    "from pyunlocbox import functions, solvers\n",
    "tau = 1.0\n",
    "f1 = functions.norm_l1(lambda_=tau)"
   ]
  },
  {
   "cell_type": "code",
   "execution_count": 52,
   "metadata": {},
   "outputs": [
    {
     "data": {
      "text/plain": [
       "4.472135954999579"
      ]
     },
     "execution_count": 52,
     "metadata": {},
     "output_type": "execute_result"
    }
   ],
   "source": [
    "f = functions.norm_nuclear()\n",
    "x = [[1, 2],[2, 3]]\n",
    "f.eval(x)"
   ]
  },
  {
   "cell_type": "code",
   "execution_count": 54,
   "metadata": {},
   "outputs": [
    {
     "data": {
      "text/plain": [
       "4.242640687119285"
      ]
     },
     "execution_count": 54,
     "metadata": {},
     "output_type": "execute_result"
    }
   ],
   "source": [
    "np.linalg.norm([[1, 2], [2, 3]], 'fro')"
   ]
  },
  {
   "cell_type": "code",
   "execution_count": 57,
   "metadata": {},
   "outputs": [
    {
     "data": {
      "text/plain": [
       "18"
      ]
     },
     "execution_count": 57,
     "metadata": {},
     "output_type": "execute_result"
    }
   ],
   "source": [
    "f = functions.norm_l2()\n",
    "x = [1, 2, 2, 3]\n",
    "f.eval(x)"
   ]
  },
  {
   "cell_type": "code",
   "execution_count": 58,
   "metadata": {},
   "outputs": [
    {
     "data": {
      "text/plain": [
       "4.242640687119285"
      ]
     },
     "execution_count": 58,
     "metadata": {},
     "output_type": "execute_result"
    }
   ],
   "source": [
    "np.linalg.norm(x)"
   ]
  },
  {
   "cell_type": "code",
   "execution_count": 88,
   "metadata": {},
   "outputs": [
    {
     "ename": "ValueError",
     "evalue": "shapes (4,4) and (10,10) not aligned: 4 (dim 1) != 10 (dim 0)",
     "output_type": "error",
     "traceback": [
      "\u001b[0;31m---------------------------------------------------------------------------\u001b[0m",
      "\u001b[0;31mValueError\u001b[0m                                Traceback (most recent call last)",
      "\u001b[0;32m<ipython-input-88-608670fc41c7>\u001b[0m in \u001b[0;36m<module>\u001b[0;34m\u001b[0m\n\u001b[1;32m     13\u001b[0m \u001b[0;34m\u001b[0m\u001b[0m\n\u001b[1;32m     14\u001b[0m \u001b[0msolver\u001b[0m \u001b[0;34m=\u001b[0m \u001b[0msolvers\u001b[0m\u001b[0;34m.\u001b[0m\u001b[0mforward_backward\u001b[0m\u001b[0;34m(\u001b[0m\u001b[0mstep\u001b[0m\u001b[0;34m=\u001b[0m\u001b[0;36m0.5\u001b[0m\u001b[0;34m)\u001b[0m\u001b[0;34m\u001b[0m\u001b[0;34m\u001b[0m\u001b[0m\n\u001b[0;32m---> 15\u001b[0;31m \u001b[0mret\u001b[0m \u001b[0;34m=\u001b[0m \u001b[0msolvers\u001b[0m\u001b[0;34m.\u001b[0m\u001b[0msolve\u001b[0m\u001b[0;34m(\u001b[0m\u001b[0;34m[\u001b[0m\u001b[0mf1\u001b[0m\u001b[0;34m,\u001b[0m \u001b[0mf2\u001b[0m\u001b[0;34m]\u001b[0m\u001b[0;34m,\u001b[0m \u001b[0mA0\u001b[0m\u001b[0;34m,\u001b[0m \u001b[0msolver\u001b[0m\u001b[0;34m,\u001b[0m \u001b[0matol\u001b[0m\u001b[0;34m=\u001b[0m\u001b[0;36m1e-5\u001b[0m\u001b[0;34m)\u001b[0m\u001b[0;34m\u001b[0m\u001b[0;34m\u001b[0m\u001b[0m\n\u001b[0m\u001b[1;32m     16\u001b[0m \u001b[0mret\u001b[0m\u001b[0;34m[\u001b[0m\u001b[0;34m'sol'\u001b[0m\u001b[0;34m]\u001b[0m\u001b[0;34m\u001b[0m\u001b[0;34m\u001b[0m\u001b[0m\n",
      "\u001b[0;32m~/anaconda3/envs/dict_lr/lib/python3.7/site-packages/pyunlocbox/solvers.py\u001b[0m in \u001b[0;36msolve\u001b[0;34m(functions, x0, solver, atol, dtol, rtol, xtol, maxit, verbosity)\u001b[0m\n\u001b[1;32m    248\u001b[0m \u001b[0;34m\u001b[0m\u001b[0m\n\u001b[1;32m    249\u001b[0m     \u001b[0;31m# Solver specific initialization.\u001b[0m\u001b[0;34m\u001b[0m\u001b[0;34m\u001b[0m\u001b[0;34m\u001b[0m\u001b[0m\n\u001b[0;32m--> 250\u001b[0;31m     \u001b[0msolver\u001b[0m\u001b[0;34m.\u001b[0m\u001b[0mpre\u001b[0m\u001b[0;34m(\u001b[0m\u001b[0mfunctions\u001b[0m\u001b[0;34m,\u001b[0m \u001b[0mx0\u001b[0m\u001b[0;34m)\u001b[0m\u001b[0;34m\u001b[0m\u001b[0;34m\u001b[0m\u001b[0m\n\u001b[0m\u001b[1;32m    251\u001b[0m \u001b[0;34m\u001b[0m\u001b[0m\n\u001b[1;32m    252\u001b[0m     \u001b[0;32mwhile\u001b[0m \u001b[0;32mnot\u001b[0m \u001b[0mcrit\u001b[0m\u001b[0;34m:\u001b[0m\u001b[0;34m\u001b[0m\u001b[0;34m\u001b[0m\u001b[0m\n",
      "\u001b[0;32m~/anaconda3/envs/dict_lr/lib/python3.7/site-packages/pyunlocbox/solvers.py\u001b[0m in \u001b[0;36mpre\u001b[0;34m(self, functions, x0)\u001b[0m\n\u001b[1;32m    376\u001b[0m         \u001b[0mself\u001b[0m\u001b[0;34m.\u001b[0m\u001b[0msmooth_funs\u001b[0m \u001b[0;34m=\u001b[0m \u001b[0;34m[\u001b[0m\u001b[0;34m]\u001b[0m\u001b[0;34m\u001b[0m\u001b[0;34m\u001b[0m\u001b[0m\n\u001b[1;32m    377\u001b[0m         \u001b[0mself\u001b[0m\u001b[0;34m.\u001b[0m\u001b[0mnon_smooth_funs\u001b[0m \u001b[0;34m=\u001b[0m \u001b[0;34m[\u001b[0m\u001b[0;34m]\u001b[0m\u001b[0;34m\u001b[0m\u001b[0;34m\u001b[0m\u001b[0m\n\u001b[0;32m--> 378\u001b[0;31m         \u001b[0mself\u001b[0m\u001b[0;34m.\u001b[0m\u001b[0m_pre\u001b[0m\u001b[0;34m(\u001b[0m\u001b[0mfunctions\u001b[0m\u001b[0;34m,\u001b[0m \u001b[0mself\u001b[0m\u001b[0;34m.\u001b[0m\u001b[0msol\u001b[0m\u001b[0;34m)\u001b[0m\u001b[0;34m\u001b[0m\u001b[0;34m\u001b[0m\u001b[0m\n\u001b[0m\u001b[1;32m    379\u001b[0m         \u001b[0mself\u001b[0m\u001b[0;34m.\u001b[0m\u001b[0maccel\u001b[0m\u001b[0;34m.\u001b[0m\u001b[0mpre\u001b[0m\u001b[0;34m(\u001b[0m\u001b[0mfunctions\u001b[0m\u001b[0;34m,\u001b[0m \u001b[0mself\u001b[0m\u001b[0;34m.\u001b[0m\u001b[0msol\u001b[0m\u001b[0;34m)\u001b[0m\u001b[0;34m\u001b[0m\u001b[0;34m\u001b[0m\u001b[0m\n\u001b[1;32m    380\u001b[0m \u001b[0;34m\u001b[0m\u001b[0m\n",
      "\u001b[0;32m~/anaconda3/envs/dict_lr/lib/python3.7/site-packages/pyunlocbox/solvers.py\u001b[0m in \u001b[0;36m_pre\u001b[0;34m(self, functions, x0)\u001b[0m\n\u001b[1;32m    549\u001b[0m             \u001b[0;32mraise\u001b[0m \u001b[0mValueError\u001b[0m\u001b[0;34m(\u001b[0m\u001b[0;34m'Forward-backward requires two convex functions.'\u001b[0m\u001b[0;34m)\u001b[0m\u001b[0;34m\u001b[0m\u001b[0;34m\u001b[0m\u001b[0m\n\u001b[1;32m    550\u001b[0m \u001b[0;34m\u001b[0m\u001b[0m\n\u001b[0;32m--> 551\u001b[0;31m         \u001b[0;32mif\u001b[0m \u001b[0;34m'PROX'\u001b[0m \u001b[0;32min\u001b[0m \u001b[0mfunctions\u001b[0m\u001b[0;34m[\u001b[0m\u001b[0;36m0\u001b[0m\u001b[0;34m]\u001b[0m\u001b[0;34m.\u001b[0m\u001b[0mcap\u001b[0m\u001b[0;34m(\u001b[0m\u001b[0mx0\u001b[0m\u001b[0;34m)\u001b[0m \u001b[0;32mand\u001b[0m \u001b[0;34m'GRAD'\u001b[0m \u001b[0;32min\u001b[0m \u001b[0mfunctions\u001b[0m\u001b[0;34m[\u001b[0m\u001b[0;36m1\u001b[0m\u001b[0;34m]\u001b[0m\u001b[0;34m.\u001b[0m\u001b[0mcap\u001b[0m\u001b[0;34m(\u001b[0m\u001b[0mx0\u001b[0m\u001b[0;34m)\u001b[0m\u001b[0;34m:\u001b[0m\u001b[0;34m\u001b[0m\u001b[0;34m\u001b[0m\u001b[0m\n\u001b[0m\u001b[1;32m    552\u001b[0m             \u001b[0mself\u001b[0m\u001b[0;34m.\u001b[0m\u001b[0msmooth_funs\u001b[0m\u001b[0;34m.\u001b[0m\u001b[0mappend\u001b[0m\u001b[0;34m(\u001b[0m\u001b[0mfunctions\u001b[0m\u001b[0;34m[\u001b[0m\u001b[0;36m1\u001b[0m\u001b[0;34m]\u001b[0m\u001b[0;34m)\u001b[0m\u001b[0;34m\u001b[0m\u001b[0;34m\u001b[0m\u001b[0m\n\u001b[1;32m    553\u001b[0m             \u001b[0mself\u001b[0m\u001b[0;34m.\u001b[0m\u001b[0mnon_smooth_funs\u001b[0m\u001b[0;34m.\u001b[0m\u001b[0mappend\u001b[0m\u001b[0;34m(\u001b[0m\u001b[0mfunctions\u001b[0m\u001b[0;34m[\u001b[0m\u001b[0;36m0\u001b[0m\u001b[0;34m]\u001b[0m\u001b[0;34m)\u001b[0m\u001b[0;34m\u001b[0m\u001b[0;34m\u001b[0m\u001b[0m\n",
      "\u001b[0;32m~/anaconda3/envs/dict_lr/lib/python3.7/site-packages/pyunlocbox/functions.py\u001b[0m in \u001b[0;36mcap\u001b[0;34m(self, x)\u001b[0m\n\u001b[1;32m    341\u001b[0m             \u001b[0mcap\u001b[0m\u001b[0;34m.\u001b[0m\u001b[0mremove\u001b[0m\u001b[0;34m(\u001b[0m\u001b[0;34m'GRAD'\u001b[0m\u001b[0;34m)\u001b[0m\u001b[0;34m\u001b[0m\u001b[0;34m\u001b[0m\u001b[0m\n\u001b[1;32m    342\u001b[0m         \u001b[0;32mtry\u001b[0m\u001b[0;34m:\u001b[0m\u001b[0;34m\u001b[0m\u001b[0;34m\u001b[0m\u001b[0m\n\u001b[0;32m--> 343\u001b[0;31m             \u001b[0mself\u001b[0m\u001b[0;34m.\u001b[0m\u001b[0mprox\u001b[0m\u001b[0;34m(\u001b[0m\u001b[0mx\u001b[0m\u001b[0;34m,\u001b[0m \u001b[0;36m1\u001b[0m\u001b[0;34m)\u001b[0m\u001b[0;34m\u001b[0m\u001b[0;34m\u001b[0m\u001b[0m\n\u001b[0m\u001b[1;32m    344\u001b[0m         \u001b[0;32mexcept\u001b[0m \u001b[0mNotImplementedError\u001b[0m\u001b[0;34m:\u001b[0m\u001b[0;34m\u001b[0m\u001b[0;34m\u001b[0m\u001b[0m\n\u001b[1;32m    345\u001b[0m             \u001b[0mcap\u001b[0m\u001b[0;34m.\u001b[0m\u001b[0mremove\u001b[0m\u001b[0;34m(\u001b[0m\u001b[0;34m'PROX'\u001b[0m\u001b[0;34m)\u001b[0m\u001b[0;34m\u001b[0m\u001b[0;34m\u001b[0m\u001b[0m\n",
      "\u001b[0;32m~/anaconda3/envs/dict_lr/lib/python3.7/site-packages/pyunlocbox/functions.py\u001b[0m in \u001b[0;36mprox\u001b[0;34m(self, x, T)\u001b[0m\n\u001b[1;32m    279\u001b[0m \u001b[0;34m\u001b[0m\u001b[0m\n\u001b[1;32m    280\u001b[0m         \"\"\"\n\u001b[0;32m--> 281\u001b[0;31m         \u001b[0;32mreturn\u001b[0m \u001b[0mself\u001b[0m\u001b[0;34m.\u001b[0m\u001b[0m_prox\u001b[0m\u001b[0;34m(\u001b[0m\u001b[0mnp\u001b[0m\u001b[0;34m.\u001b[0m\u001b[0masarray\u001b[0m\u001b[0;34m(\u001b[0m\u001b[0mx\u001b[0m\u001b[0;34m)\u001b[0m\u001b[0;34m,\u001b[0m \u001b[0mT\u001b[0m\u001b[0;34m)\u001b[0m\u001b[0;34m\u001b[0m\u001b[0;34m\u001b[0m\u001b[0m\n\u001b[0m\u001b[1;32m    282\u001b[0m \u001b[0;34m\u001b[0m\u001b[0m\n\u001b[1;32m    283\u001b[0m     \u001b[0;32mdef\u001b[0m \u001b[0m_prox\u001b[0m\u001b[0;34m(\u001b[0m\u001b[0mself\u001b[0m\u001b[0;34m,\u001b[0m \u001b[0mx\u001b[0m\u001b[0;34m,\u001b[0m \u001b[0mT\u001b[0m\u001b[0;34m)\u001b[0m\u001b[0;34m:\u001b[0m\u001b[0;34m\u001b[0m\u001b[0;34m\u001b[0m\u001b[0m\n",
      "\u001b[0;32m~/anaconda3/envs/dict_lr/lib/python3.7/site-packages/pyunlocbox/functions.py\u001b[0m in \u001b[0;36m_prox\u001b[0;34m(self, x, T)\u001b[0m\n\u001b[1;32m    564\u001b[0m         \u001b[0ms\u001b[0m \u001b[0;34m=\u001b[0m \u001b[0m_soft_threshold\u001b[0m\u001b[0;34m(\u001b[0m\u001b[0ms\u001b[0m\u001b[0;34m,\u001b[0m \u001b[0mgamma\u001b[0m\u001b[0;34m)\u001b[0m\u001b[0;34m\u001b[0m\u001b[0;34m\u001b[0m\u001b[0m\n\u001b[1;32m    565\u001b[0m         \u001b[0mS\u001b[0m \u001b[0;34m=\u001b[0m \u001b[0mnp\u001b[0m\u001b[0;34m.\u001b[0m\u001b[0mdiag\u001b[0m\u001b[0;34m(\u001b[0m\u001b[0ms\u001b[0m\u001b[0;34m)\u001b[0m\u001b[0;34m\u001b[0m\u001b[0;34m\u001b[0m\u001b[0m\n\u001b[0;32m--> 566\u001b[0;31m         \u001b[0;32mreturn\u001b[0m \u001b[0mnp\u001b[0m\u001b[0;34m.\u001b[0m\u001b[0mdot\u001b[0m\u001b[0;34m(\u001b[0m\u001b[0mU\u001b[0m\u001b[0;34m,\u001b[0m \u001b[0mnp\u001b[0m\u001b[0;34m.\u001b[0m\u001b[0mdot\u001b[0m\u001b[0;34m(\u001b[0m\u001b[0mS\u001b[0m\u001b[0;34m,\u001b[0m \u001b[0mV\u001b[0m\u001b[0;34m)\u001b[0m\u001b[0;34m)\u001b[0m\u001b[0;34m\u001b[0m\u001b[0;34m\u001b[0m\u001b[0m\n\u001b[0m\u001b[1;32m    567\u001b[0m \u001b[0;34m\u001b[0m\u001b[0m\n\u001b[1;32m    568\u001b[0m \u001b[0;34m\u001b[0m\u001b[0m\n",
      "\u001b[0;32m<__array_function__ internals>\u001b[0m in \u001b[0;36mdot\u001b[0;34m(*args, **kwargs)\u001b[0m\n",
      "\u001b[0;31mValueError\u001b[0m: shapes (4,4) and (10,10) not aligned: 4 (dim 1) != 10 (dim 0)"
     ]
    }
   ],
   "source": [
    "X = np.random.rand(3, 4)\n",
    "A0 = np.zeros((10, 4))\n",
    "PHI = np.random.rand(3, 10)\n",
    "                   \n",
    "print(X.shape, PHI.shape, A0.shape)\n",
    "print((X - np.dot(PHI, A0)).shape)\n",
    "\n",
    "lambd = 0.5\n",
    "# f1 = functions.norm_l1(lambda_=lambd)\n",
    "f2 = functions.dummy()\n",
    "\n",
    "f1 = functions.norm_nuclear(y=X, A=PHI)\n",
    "\n",
    "solver = solvers.forward_backward(step=0.5)\n",
    "ret = solvers.solve([f1, f2], A0, solver, atol=1e-5)\n",
    "ret['sol']"
   ]
  },
  {
   "cell_type": "code",
   "execution_count": 197,
   "metadata": {},
   "outputs": [],
   "source": [
    "X = np.random.rand(3, 4)\n",
    "A0 = np.random.rand(10, 4)\n",
    "Phi = np.random.rand(3, 10)\n",
    "\n",
    "step = 0.5 / np.linalg.norm(A, ord='fro')**2\n",
    "\n",
    "f4 = functions.func()\n",
    "f4._grad = lambda A: np.dot(Phi.T, X - np.dot(Phi, A))\n",
    "f4._eval = lambda A: 0.5 * np.linalg.norm(X - np.dot(Phi, A), 'fro')**2\n",
    "\n",
    "f5 = functions.norm_l1()"
   ]
  },
  {
   "cell_type": "code",
   "execution_count": 193,
   "metadata": {},
   "outputs": [],
   "source": [
    "solver = solvers.forward_backward(step=step)"
   ]
  },
  {
   "cell_type": "code",
   "execution_count": 196,
   "metadata": {},
   "outputs": [
    {
     "name": "stdout",
     "output_type": "stream",
     "text": [
      "Solution found after 5000 iterations:\n",
      "    objective function f(sol) = nan\n",
      "    stopping criterion: MAXIT\n"
     ]
    }
   ],
   "source": [
    "ret = solvers.solve([f4, f5], A0, solver, rtol=1e-4, maxit=5000)"
   ]
  },
  {
   "cell_type": "code",
   "execution_count": 207,
   "metadata": {},
   "outputs": [
    {
     "data": {
      "text/plain": [
       "18.835979330276363"
      ]
     },
     "execution_count": 207,
     "metadata": {},
     "output_type": "execute_result"
    }
   ],
   "source": [
    "f = functions.norm_l1()\n",
    "# x = [[0, 0, 0, 0], [0, 0, 0 ,0], [0, 0, 0, 0], [0, 0, 0, 0], [0, 0, 0, 0]]\n",
    "# A = np.random.rand(10, 4)\n",
    "f.eval(A0)"
   ]
  },
  {
   "cell_type": "code",
   "execution_count": 182,
   "metadata": {},
   "outputs": [
    {
     "data": {
      "text/plain": [
       "array([[nan, nan, nan, nan],\n",
       "       [nan, nan, nan, nan],\n",
       "       [nan, nan, nan, nan],\n",
       "       [nan, nan, nan, nan],\n",
       "       [nan, nan, nan, nan],\n",
       "       [nan, nan, nan, nan],\n",
       "       [nan, nan, nan, nan],\n",
       "       [nan, nan, nan, nan],\n",
       "       [nan, nan, nan, nan],\n",
       "       [nan, nan, nan, nan]])"
      ]
     },
     "execution_count": 182,
     "metadata": {},
     "output_type": "execute_result"
    }
   ],
   "source": [
    "f.prox(A, -2)"
   ]
  },
  {
   "cell_type": "code",
   "execution_count": 183,
   "metadata": {},
   "outputs": [
    {
     "data": {
      "text/plain": [
       "array([[nan, nan, nan, nan],\n",
       "       [nan, nan, nan, nan],\n",
       "       [nan, nan, nan, nan],\n",
       "       [nan, nan, nan, nan],\n",
       "       [nan, nan, nan, nan],\n",
       "       [nan, nan, nan, nan],\n",
       "       [nan, nan, nan, nan],\n",
       "       [nan, nan, nan, nan],\n",
       "       [nan, nan, nan, nan],\n",
       "       [nan, nan, nan, nan]])"
      ]
     },
     "execution_count": 183,
     "metadata": {},
     "output_type": "execute_result"
    }
   ],
   "source": [
    "A"
   ]
  },
  {
   "cell_type": "code",
   "execution_count": 186,
   "metadata": {},
   "outputs": [
    {
     "data": {
      "text/plain": [
       "array([[ 1.939054  ,  1.83199854, -0.91522085,  0.83398199],\n",
       "       [-0.67986607, -0.07367405,  0.52745163, -0.58268409],\n",
       "       [ 0.58706238, -0.91580683, -0.40566762,  0.34473883],\n",
       "       [-1.1873018 ,  0.95247249, -0.40328249, -2.1929995 ],\n",
       "       [ 0.92258937, -1.09017373, -0.5145347 ,  1.16111558],\n",
       "       [ 1.18012535,  0.88157409, -1.12281707,  1.42774051],\n",
       "       [ 0.55911061,  0.55671879,  0.45364212, -0.34238067],\n",
       "       [ 0.99512702, -0.28133328,  0.01726489, -0.9542909 ],\n",
       "       [ 0.00277794,  0.41901598, -0.67918387, -0.15161129],\n",
       "       [-2.12728073, -1.40595092, -1.04123541,  1.19000629]])"
      ]
     },
     "execution_count": 186,
     "metadata": {},
     "output_type": "execute_result"
    }
   ],
   "source": [
    "A0"
   ]
  },
  {
   "cell_type": "code",
   "execution_count": 204,
   "metadata": {},
   "outputs": [
    {
     "data": {
      "text/plain": [
       "array([[0., 0., 0., 0.],\n",
       "       [0., 0., 0., 0.],\n",
       "       [0., 0., 0., 0.],\n",
       "       [0., 0., 0., 0.],\n",
       "       [0., 0., 0., 0.],\n",
       "       [0., 0., 0., 0.],\n",
       "       [0., 0., 0., 0.],\n",
       "       [0., 0., 0., 0.],\n",
       "       [0., 0., 0., 0.],\n",
       "       [0., 0., 0., 0.]])"
      ]
     },
     "execution_count": 204,
     "metadata": {},
     "output_type": "execute_result"
    }
   ],
   "source": [
    "f5.prox(A0, 1)"
   ]
  },
  {
   "cell_type": "code",
   "execution_count": 10,
   "metadata": {},
   "outputs": [],
   "source": [
    "from sklearn.decomposition import DictionaryLearning, MiniBatchDictionaryLearning"
   ]
  },
  {
   "cell_type": "code",
   "execution_count": 11,
   "metadata": {},
   "outputs": [
    {
     "data": {
      "text/plain": [
       "(50, 400000)"
      ]
     },
     "execution_count": 11,
     "metadata": {},
     "output_type": "execute_result"
    }
   ],
   "source": [
    "y.shape"
   ]
  },
  {
   "cell_type": "code",
   "execution_count": 12,
   "metadata": {},
   "outputs": [
    {
     "data": {
      "text/plain": [
       "(50, 200)"
      ]
     },
     "execution_count": 12,
     "metadata": {},
     "output_type": "execute_result"
    }
   ],
   "source": [
    "data = y[:, :200]\n",
    "data.shape"
   ]
  },
  {
   "cell_type": "code",
   "execution_count": 288,
   "metadata": {},
   "outputs": [],
   "source": [
    "dicto = MiniBatchDictionaryLearning(n_components=1000, alpha=0.5, fit_algorithm='cd',\n",
    "                                    transform_algorithm='lasso_cd', batch_size=100,\n",
    "                                    positive_code=True, positive_dict=False, \n",
    "                                    transform_alpha=0.5)"
   ]
  },
  {
   "cell_type": "code",
   "execution_count": 291,
   "metadata": {},
   "outputs": [
    {
     "data": {
      "text/plain": [
       "4000"
      ]
     },
     "execution_count": 291,
     "metadata": {},
     "output_type": "execute_result"
    }
   ],
   "source": [
    "batches_num = int(y.shape[1] / 100)\n",
    "batches_num"
   ]
  },
  {
   "cell_type": "code",
   "execution_count": 295,
   "metadata": {},
   "outputs": [
    {
     "ename": "MemoryError",
     "evalue": "Unable to allocate 385. MiB for an array with shape (400000, 1010) and data type bool",
     "output_type": "error",
     "traceback": [
      "\u001b[0;31m---------------------------------------------------------------------------\u001b[0m",
      "\u001b[0;31mMemoryError\u001b[0m                               Traceback (most recent call last)",
      "\u001b[0;32m<ipython-input-295-c2da90f251d0>\u001b[0m in \u001b[0;36m<module>\u001b[0;34m\u001b[0m\n\u001b[1;32m      1\u001b[0m \u001b[0;32mfor\u001b[0m \u001b[0mbatch_i\u001b[0m \u001b[0;32min\u001b[0m \u001b[0mrange\u001b[0m\u001b[0;34m(\u001b[0m\u001b[0mbatches_num\u001b[0m\u001b[0;34m)\u001b[0m\u001b[0;34m:\u001b[0m\u001b[0;34m\u001b[0m\u001b[0;34m\u001b[0m\u001b[0m\n\u001b[1;32m      2\u001b[0m \u001b[0;31m#     a = dicto.partial_fit(X[batch_i * 100: (batch_i + 1) * 100])\u001b[0m\u001b[0;34m\u001b[0m\u001b[0;34m\u001b[0m\u001b[0;34m\u001b[0m\u001b[0m\n\u001b[0;32m----> 3\u001b[0;31m     \u001b[0ma\u001b[0m \u001b[0;34m=\u001b[0m \u001b[0mdicto\u001b[0m\u001b[0;34m.\u001b[0m\u001b[0mpartial_fit\u001b[0m\u001b[0;34m(\u001b[0m\u001b[0my\u001b[0m\u001b[0;34m,\u001b[0m \u001b[0miter_offset\u001b[0m\u001b[0;34m=\u001b[0m\u001b[0mbatch_i\u001b[0m\u001b[0;34m)\u001b[0m\u001b[0;34m\u001b[0m\u001b[0;34m\u001b[0m\u001b[0m\n\u001b[0m\u001b[1;32m      4\u001b[0m     \u001b[0mprint\u001b[0m\u001b[0;34m(\u001b[0m\u001b[0ma\u001b[0m\u001b[0;34m)\u001b[0m\u001b[0;34m\u001b[0m\u001b[0;34m\u001b[0m\u001b[0m\n",
      "\u001b[0;32m~/anaconda3/envs/dict_lr/lib/python3.7/site-packages/sklearn/decomposition/_dict_learning.py\u001b[0m in \u001b[0;36mpartial_fit\u001b[0;34m(self, X, y, iter_offset)\u001b[0m\n\u001b[1;32m   1496\u001b[0m             \u001b[0mreturn_inner_stats\u001b[0m\u001b[0;34m=\u001b[0m\u001b[0;32mTrue\u001b[0m\u001b[0;34m,\u001b[0m \u001b[0minner_stats\u001b[0m\u001b[0;34m=\u001b[0m\u001b[0minner_stats\u001b[0m\u001b[0;34m,\u001b[0m\u001b[0;34m\u001b[0m\u001b[0;34m\u001b[0m\u001b[0m\n\u001b[1;32m   1497\u001b[0m             \u001b[0mpositive_dict\u001b[0m\u001b[0;34m=\u001b[0m\u001b[0mself\u001b[0m\u001b[0;34m.\u001b[0m\u001b[0mpositive_dict\u001b[0m\u001b[0;34m,\u001b[0m\u001b[0;34m\u001b[0m\u001b[0;34m\u001b[0m\u001b[0m\n\u001b[0;32m-> 1498\u001b[0;31m             positive_code=self.positive_code)\n\u001b[0m\u001b[1;32m   1499\u001b[0m         \u001b[0mself\u001b[0m\u001b[0;34m.\u001b[0m\u001b[0mcomponents_\u001b[0m \u001b[0;34m=\u001b[0m \u001b[0mU\u001b[0m\u001b[0;34m\u001b[0m\u001b[0;34m\u001b[0m\u001b[0m\n\u001b[1;32m   1500\u001b[0m \u001b[0;34m\u001b[0m\u001b[0m\n",
      "\u001b[0;32m~/anaconda3/envs/dict_lr/lib/python3.7/site-packages/sklearn/decomposition/_dict_learning.py\u001b[0m in \u001b[0;36mdict_learning_online\u001b[0;34m(X, n_components, alpha, n_iter, return_code, dict_init, callback, batch_size, verbose, shuffle, n_jobs, method, iter_offset, random_state, return_inner_stats, inner_stats, return_n_iter, positive_dict, positive_code, method_max_iter)\u001b[0m\n\u001b[1;32m    768\u001b[0m     \u001b[0;32melse\u001b[0m\u001b[0;34m:\u001b[0m\u001b[0;34m\u001b[0m\u001b[0;34m\u001b[0m\u001b[0m\n\u001b[1;32m    769\u001b[0m         _, S, dictionary = randomized_svd(X, n_components,\n\u001b[0;32m--> 770\u001b[0;31m                                           random_state=random_state)\n\u001b[0m\u001b[1;32m    771\u001b[0m         \u001b[0mdictionary\u001b[0m \u001b[0;34m=\u001b[0m \u001b[0mS\u001b[0m\u001b[0;34m[\u001b[0m\u001b[0;34m:\u001b[0m\u001b[0;34m,\u001b[0m \u001b[0mnp\u001b[0m\u001b[0;34m.\u001b[0m\u001b[0mnewaxis\u001b[0m\u001b[0;34m]\u001b[0m \u001b[0;34m*\u001b[0m \u001b[0mdictionary\u001b[0m\u001b[0;34m\u001b[0m\u001b[0;34m\u001b[0m\u001b[0m\n\u001b[1;32m    772\u001b[0m     \u001b[0mr\u001b[0m \u001b[0;34m=\u001b[0m \u001b[0mlen\u001b[0m\u001b[0;34m(\u001b[0m\u001b[0mdictionary\u001b[0m\u001b[0;34m)\u001b[0m\u001b[0;34m\u001b[0m\u001b[0;34m\u001b[0m\u001b[0m\n",
      "\u001b[0;32m~/anaconda3/envs/dict_lr/lib/python3.7/site-packages/sklearn/utils/extmath.py\u001b[0m in \u001b[0;36mrandomized_svd\u001b[0;34m(M, n_components, n_oversamples, n_iter, power_iteration_normalizer, transpose, flip_sign, random_state)\u001b[0m\n\u001b[1;32m    344\u001b[0m \u001b[0;34m\u001b[0m\u001b[0m\n\u001b[1;32m    345\u001b[0m     Q = randomized_range_finder(M, n_random, n_iter,\n\u001b[0;32m--> 346\u001b[0;31m                                 power_iteration_normalizer, random_state)\n\u001b[0m\u001b[1;32m    347\u001b[0m \u001b[0;34m\u001b[0m\u001b[0m\n\u001b[1;32m    348\u001b[0m     \u001b[0;31m# project M to the (k + p) dimensional space using the basis vectors\u001b[0m\u001b[0;34m\u001b[0m\u001b[0;34m\u001b[0m\u001b[0;34m\u001b[0m\u001b[0m\n",
      "\u001b[0;32m~/anaconda3/envs/dict_lr/lib/python3.7/site-packages/sklearn/utils/extmath.py\u001b[0m in \u001b[0;36mrandomized_range_finder\u001b[0;34m(A, size, n_iter, power_iteration_normalizer, random_state)\u001b[0m\n\u001b[1;32m    229\u001b[0m             \u001b[0mQ\u001b[0m \u001b[0;34m=\u001b[0m \u001b[0msafe_sparse_dot\u001b[0m\u001b[0;34m(\u001b[0m\u001b[0mA\u001b[0m\u001b[0;34m.\u001b[0m\u001b[0mT\u001b[0m\u001b[0;34m,\u001b[0m \u001b[0mQ\u001b[0m\u001b[0;34m)\u001b[0m\u001b[0;34m\u001b[0m\u001b[0;34m\u001b[0m\u001b[0m\n\u001b[1;32m    230\u001b[0m         \u001b[0;32melif\u001b[0m \u001b[0mpower_iteration_normalizer\u001b[0m \u001b[0;34m==\u001b[0m \u001b[0;34m'LU'\u001b[0m\u001b[0;34m:\u001b[0m\u001b[0;34m\u001b[0m\u001b[0;34m\u001b[0m\u001b[0m\n\u001b[0;32m--> 231\u001b[0;31m             \u001b[0mQ\u001b[0m\u001b[0;34m,\u001b[0m \u001b[0m_\u001b[0m \u001b[0;34m=\u001b[0m \u001b[0mlinalg\u001b[0m\u001b[0;34m.\u001b[0m\u001b[0mlu\u001b[0m\u001b[0;34m(\u001b[0m\u001b[0msafe_sparse_dot\u001b[0m\u001b[0;34m(\u001b[0m\u001b[0mA\u001b[0m\u001b[0;34m,\u001b[0m \u001b[0mQ\u001b[0m\u001b[0;34m)\u001b[0m\u001b[0;34m,\u001b[0m \u001b[0mpermute_l\u001b[0m\u001b[0;34m=\u001b[0m\u001b[0;32mTrue\u001b[0m\u001b[0;34m)\u001b[0m\u001b[0;34m\u001b[0m\u001b[0;34m\u001b[0m\u001b[0m\n\u001b[0m\u001b[1;32m    232\u001b[0m             \u001b[0mQ\u001b[0m\u001b[0;34m,\u001b[0m \u001b[0m_\u001b[0m \u001b[0;34m=\u001b[0m \u001b[0mlinalg\u001b[0m\u001b[0;34m.\u001b[0m\u001b[0mlu\u001b[0m\u001b[0;34m(\u001b[0m\u001b[0msafe_sparse_dot\u001b[0m\u001b[0;34m(\u001b[0m\u001b[0mA\u001b[0m\u001b[0;34m.\u001b[0m\u001b[0mT\u001b[0m\u001b[0;34m,\u001b[0m \u001b[0mQ\u001b[0m\u001b[0;34m)\u001b[0m\u001b[0;34m,\u001b[0m \u001b[0mpermute_l\u001b[0m\u001b[0;34m=\u001b[0m\u001b[0;32mTrue\u001b[0m\u001b[0;34m)\u001b[0m\u001b[0;34m\u001b[0m\u001b[0;34m\u001b[0m\u001b[0m\n\u001b[1;32m    233\u001b[0m         \u001b[0;32melif\u001b[0m \u001b[0mpower_iteration_normalizer\u001b[0m \u001b[0;34m==\u001b[0m \u001b[0;34m'QR'\u001b[0m\u001b[0;34m:\u001b[0m\u001b[0;34m\u001b[0m\u001b[0;34m\u001b[0m\u001b[0m\n",
      "\u001b[0;32m~/anaconda3/envs/dict_lr/lib/python3.7/site-packages/scipy/linalg/decomp_lu.py\u001b[0m in \u001b[0;36mlu\u001b[0;34m(a, permute_l, overwrite_a, check_finite)\u001b[0m\n\u001b[1;32m    208\u001b[0m     \"\"\"\n\u001b[1;32m    209\u001b[0m     \u001b[0;32mif\u001b[0m \u001b[0mcheck_finite\u001b[0m\u001b[0;34m:\u001b[0m\u001b[0;34m\u001b[0m\u001b[0;34m\u001b[0m\u001b[0m\n\u001b[0;32m--> 210\u001b[0;31m         \u001b[0ma1\u001b[0m \u001b[0;34m=\u001b[0m \u001b[0masarray_chkfinite\u001b[0m\u001b[0;34m(\u001b[0m\u001b[0ma\u001b[0m\u001b[0;34m)\u001b[0m\u001b[0;34m\u001b[0m\u001b[0;34m\u001b[0m\u001b[0m\n\u001b[0m\u001b[1;32m    211\u001b[0m     \u001b[0;32melse\u001b[0m\u001b[0;34m:\u001b[0m\u001b[0;34m\u001b[0m\u001b[0;34m\u001b[0m\u001b[0m\n\u001b[1;32m    212\u001b[0m         \u001b[0ma1\u001b[0m \u001b[0;34m=\u001b[0m \u001b[0masarray\u001b[0m\u001b[0;34m(\u001b[0m\u001b[0ma\u001b[0m\u001b[0;34m)\u001b[0m\u001b[0;34m\u001b[0m\u001b[0;34m\u001b[0m\u001b[0m\n",
      "\u001b[0;32m~/anaconda3/envs/dict_lr/lib/python3.7/site-packages/numpy/lib/function_base.py\u001b[0m in \u001b[0;36masarray_chkfinite\u001b[0;34m(a, dtype, order)\u001b[0m\n\u001b[1;32m    495\u001b[0m     \"\"\"\n\u001b[1;32m    496\u001b[0m     \u001b[0ma\u001b[0m \u001b[0;34m=\u001b[0m \u001b[0masarray\u001b[0m\u001b[0;34m(\u001b[0m\u001b[0ma\u001b[0m\u001b[0;34m,\u001b[0m \u001b[0mdtype\u001b[0m\u001b[0;34m=\u001b[0m\u001b[0mdtype\u001b[0m\u001b[0;34m,\u001b[0m \u001b[0morder\u001b[0m\u001b[0;34m=\u001b[0m\u001b[0morder\u001b[0m\u001b[0;34m)\u001b[0m\u001b[0;34m\u001b[0m\u001b[0;34m\u001b[0m\u001b[0m\n\u001b[0;32m--> 497\u001b[0;31m     \u001b[0;32mif\u001b[0m \u001b[0ma\u001b[0m\u001b[0;34m.\u001b[0m\u001b[0mdtype\u001b[0m\u001b[0;34m.\u001b[0m\u001b[0mchar\u001b[0m \u001b[0;32min\u001b[0m \u001b[0mtypecodes\u001b[0m\u001b[0;34m[\u001b[0m\u001b[0;34m'AllFloat'\u001b[0m\u001b[0;34m]\u001b[0m \u001b[0;32mand\u001b[0m \u001b[0;32mnot\u001b[0m \u001b[0mnp\u001b[0m\u001b[0;34m.\u001b[0m\u001b[0misfinite\u001b[0m\u001b[0;34m(\u001b[0m\u001b[0ma\u001b[0m\u001b[0;34m)\u001b[0m\u001b[0;34m.\u001b[0m\u001b[0mall\u001b[0m\u001b[0;34m(\u001b[0m\u001b[0;34m)\u001b[0m\u001b[0;34m:\u001b[0m\u001b[0;34m\u001b[0m\u001b[0;34m\u001b[0m\u001b[0m\n\u001b[0m\u001b[1;32m    498\u001b[0m         raise ValueError(\n\u001b[1;32m    499\u001b[0m             \"array must not contain infs or NaNs\")\n",
      "\u001b[0;31mMemoryError\u001b[0m: Unable to allocate 385. MiB for an array with shape (400000, 1010) and data type bool"
     ]
    }
   ],
   "source": [
    "for batch_i in range(batches_num):\n",
    "#     a = dicto.partial_fit(X[batch_i * 100: (batch_i + 1) * 100])\n",
    "    a = dicto.partial_fit(y[batch_i * 100: (batch_i + 1) * 100], iter_offset=batch_i)\n",
    "    print(a)"
   ]
  },
  {
   "cell_type": "code",
   "execution_count": 279,
   "metadata": {},
   "outputs": [],
   "source": [
    "dict_lr = DictionaryLearning(n_components=20, alpha=0.5, max_iter=1000, \n",
    "                             fit_algorithm='cd', transform_algorithm='lasso_cd',\n",
    "                             positive_code=True, positive_dict=False)\n",
    "X = dict_lr.fit(data).components_"
   ]
  },
  {
   "cell_type": "code",
   "execution_count": 280,
   "metadata": {},
   "outputs": [
    {
     "data": {
      "text/plain": [
       "(20, 200)"
      ]
     },
     "execution_count": 280,
     "metadata": {},
     "output_type": "execute_result"
    }
   ],
   "source": [
    "X.shape"
   ]
  },
  {
   "cell_type": "code",
   "execution_count": 281,
   "metadata": {},
   "outputs": [],
   "source": [
    "A = dict_lr.transform(data)"
   ]
  },
  {
   "cell_type": "code",
   "execution_count": 282,
   "metadata": {},
   "outputs": [
    {
     "data": {
      "text/plain": [
       "(50, 20)"
      ]
     },
     "execution_count": 282,
     "metadata": {},
     "output_type": "execute_result"
    }
   ],
   "source": [
    "A.shape"
   ]
  },
  {
   "cell_type": "code",
   "execution_count": 283,
   "metadata": {},
   "outputs": [
    {
     "data": {
      "text/plain": [
       "array([0.        , 0.        , 0.        , 0.        , 0.        ,\n",
       "       1.08266501, 0.        , 3.96118013, 0.        , 0.        ,\n",
       "       0.        , 0.        , 0.        , 0.24747446, 0.        ,\n",
       "       0.        , 0.        , 0.        , 0.        , 0.        ])"
      ]
     },
     "execution_count": 283,
     "metadata": {},
     "output_type": "execute_result"
    }
   ],
   "source": [
    "A[1]"
   ]
  },
  {
   "cell_type": "code",
   "execution_count": 284,
   "metadata": {},
   "outputs": [
    {
     "data": {
      "text/plain": [
       "[2803.1552161970485,\n",
       " 857.4205072354159,\n",
       " 642.5169661693067,\n",
       " 611.8280625161244,\n",
       " 597.169000721429,\n",
       " 587.9654246661,\n",
       " 580.786037220401,\n",
       " 574.9213752687975,\n",
       " 570.1655113959937,\n",
       " 566.1692666521742,\n",
       " 562.6412967999872,\n",
       " 559.7196598616363,\n",
       " 557.270705521914,\n",
       " 555.131244096472,\n",
       " 553.1990028500757,\n",
       " 551.3374335345322,\n",
       " 549.5194216643298,\n",
       " 547.7870523053457,\n",
       " 546.2556349611345,\n",
       " 545.0438690083674,\n",
       " 544.055174461204,\n",
       " 543.195243802172,\n",
       " 542.4235780063731,\n",
       " 541.729729108149,\n",
       " 541.1319424632064,\n",
       " 540.6395320288934,\n",
       " 540.2418466950916,\n",
       " 539.8924946860359,\n",
       " 539.5686146267392,\n",
       " 539.282742226555,\n",
       " 539.0278715818831,\n",
       " 538.7812496141144,\n",
       " 538.5396863955457,\n",
       " 538.2972335011546,\n",
       " 538.0497359830197,\n",
       " 537.7938266905686,\n",
       " 537.5255143680317,\n",
       " 537.2489055053435,\n",
       " 536.9643592056202,\n",
       " 536.6696226796233,\n",
       " 536.3735797771119,\n",
       " 536.0759372311392,\n",
       " 535.7767754747805,\n",
       " 535.47608928838,\n",
       " 535.1693505646369,\n",
       " 534.8560946115982,\n",
       " 534.5589521206724,\n",
       " 534.3063672802587,\n",
       " 534.092210414897,\n",
       " 533.9013555803537,\n",
       " 533.7273836482648,\n",
       " 533.5664817055186,\n",
       " 533.4192872915372,\n",
       " 533.2823485974529,\n",
       " 533.1516852254862,\n",
       " 533.024323710421,\n",
       " 532.8995377230638,\n",
       " 532.775143527877,\n",
       " 532.6491320261938,\n",
       " 532.5185816052006,\n",
       " 532.3817065052001,\n",
       " 532.2381175530151,\n",
       " 532.0858996338909,\n",
       " 531.9254020870567,\n",
       " 531.7616781472586,\n",
       " 531.5927461214385,\n",
       " 531.4223998599023,\n",
       " 531.2462623009311,\n",
       " 531.0642659825062,\n",
       " 530.8823171069923,\n",
       " 530.7043859175634,\n",
       " 530.5376918111532,\n",
       " 530.378074282019,\n",
       " 530.2225878862018,\n",
       " 530.0739795451045,\n",
       " 529.9495955299092,\n",
       " 529.8387672722191,\n",
       " 529.7371519156436,\n",
       " 529.6420622224102,\n",
       " 529.5517497176163,\n",
       " 529.4649515672023,\n",
       " 529.3806992704156,\n",
       " 529.2983170841003,\n",
       " 529.217311357932,\n",
       " 529.1376494473398,\n",
       " 529.0593068166454,\n",
       " 528.981319202609,\n",
       " 528.9031927020683,\n",
       " 528.8245385390379,\n",
       " 528.7449955601918,\n",
       " 528.6649011136035,\n",
       " 528.5838429415464,\n",
       " 528.5014478417506,\n",
       " 528.4174952415661,\n",
       " 528.331570673621,\n",
       " 528.2431638344653,\n",
       " 528.1516456616729,\n",
       " 528.0554944118408,\n",
       " 527.9536037644758,\n",
       " 527.8466390394167,\n",
       " 527.7368646565662,\n",
       " 527.6251116986917,\n",
       " 527.5114510604608,\n",
       " 527.3966068009595,\n",
       " 527.2794379280625,\n",
       " 527.1590965966193,\n",
       " 527.0352714317004,\n",
       " 526.9074120831833,\n",
       " 526.7749737002102,\n",
       " 526.6524458727527,\n",
       " 526.5782580623354,\n",
       " 526.5112375428228,\n",
       " 526.448924803357,\n",
       " 526.3916352018484,\n",
       " 526.3390483463492,\n",
       " 526.2898758196924,\n",
       " 526.2433915744788,\n",
       " 526.198063616589,\n",
       " 526.1532193047957,\n",
       " 526.1107517856749,\n",
       " 526.0736810339831,\n",
       " 526.0394920806714,\n",
       " 526.0071240255154,\n",
       " 525.9760064564298,\n",
       " 525.9457827181316,\n",
       " 525.9160327515702,\n",
       " 525.8862473692957,\n",
       " 525.856120921371,\n",
       " 525.825228278841,\n",
       " 525.7931258601707,\n",
       " 525.7596470265994,\n",
       " 525.7242468433813,\n",
       " 525.6864565016098,\n",
       " 525.6459144912785,\n",
       " 525.6023730400434,\n",
       " 525.5556291205708,\n",
       " 525.5055520341298,\n",
       " 525.4522105739011,\n",
       " 525.3953174597458,\n",
       " 525.3342566084492,\n",
       " 525.2681488320358,\n",
       " 525.197000847925,\n",
       " 525.1206530472114,\n",
       " 525.039066876122,\n",
       " 524.9517451592291,\n",
       " 524.8694009817461,\n",
       " 524.7895556086853,\n",
       " 524.7116205152563,\n",
       " 524.6361387491469,\n",
       " 524.5619974466678,\n",
       " 524.4908791209425,\n",
       " 524.4236211838108,\n",
       " 524.358828202922,\n",
       " 524.2960200511977,\n",
       " 524.2348607885534,\n",
       " 524.1761780936363,\n",
       " 524.1189371671691,\n",
       " 524.0616582918151,\n",
       " 524.0030680646764,\n",
       " 523.9436809026811,\n",
       " 523.8827094689303,\n",
       " 523.8192992509568,\n",
       " 523.7525674166128,\n",
       " 523.6852243440917,\n",
       " 523.6159454077633,\n",
       " 523.5456545408831,\n",
       " 523.4737727933964,\n",
       " 523.3994445702647,\n",
       " 523.3220165797887,\n",
       " 523.2486289862176,\n",
       " 523.1761620909958,\n",
       " 523.103901561881,\n",
       " 523.0383175143868,\n",
       " 522.9847711815158,\n",
       " 522.9383761945282,\n",
       " 522.8970245617961,\n",
       " 522.8611660530529,\n",
       " 522.8284799002735,\n",
       " 522.7980542244578,\n",
       " 522.7693751209694,\n",
       " 522.7442357563314,\n",
       " 522.7210703609103,\n",
       " 522.6991124919693,\n",
       " 522.678023236584,\n",
       " 522.6575683964224,\n",
       " 522.637846868943,\n",
       " 522.6193873929772,\n",
       " 522.6031354238819,\n",
       " 522.5881816292497,\n",
       " 522.5742057210591,\n",
       " 522.5610169934102,\n",
       " 522.5484888837425,\n",
       " 522.5365337118989,\n",
       " 522.5251600015976,\n",
       " 522.5144843653504,\n",
       " 522.5044571149982,\n",
       " 522.495329118482,\n",
       " 522.486850335179,\n",
       " 522.4788989844751,\n",
       " 522.4714057783309,\n",
       " 522.4643710786486,\n",
       " 522.4577402650265,\n",
       " 522.4516703821857,\n",
       " 522.446143178709,\n",
       " 522.4410600015759,\n",
       " 522.436353169049,\n",
       " 522.4319474237218,\n",
       " 522.4277886221412,\n",
       " 522.4238386968923,\n",
       " 522.4200709289224,\n",
       " 522.4164601108904,\n",
       " 522.4130074124303,\n",
       " 522.4096991415241,\n",
       " 522.4065202731408,\n",
       " 522.4034534659454,\n",
       " 522.400535699501,\n",
       " 522.3977754795515,\n",
       " 522.3951516483819,\n",
       " 522.3926819378812,\n",
       " 522.3903963842929,\n",
       " 522.3882663852794,\n",
       " 522.3862737047886,\n",
       " 522.3844060203082,\n",
       " 522.3826510717988,\n",
       " 522.3809994384461,\n",
       " 522.3794444102182,\n",
       " 522.3779769191505,\n",
       " 522.3765902477151,\n",
       " 522.3752762631785,\n",
       " 522.3740313257766,\n",
       " 522.3728472755246,\n",
       " 522.3717210140949,\n",
       " 522.3706380645308,\n",
       " 522.3695677554199,\n",
       " 522.3685591544302,\n",
       " 522.367531376449,\n",
       " 522.3664516627182,\n",
       " 522.3652954974506,\n",
       " 522.3640432673194,\n",
       " 522.3626775573111,\n",
       " 522.3611773530122,\n",
       " 522.3595193208032,\n",
       " 522.3576986307507,\n",
       " 522.3557373537485,\n",
       " 522.3536115444717,\n",
       " 522.3513066030393,\n",
       " 522.3488068374047,\n",
       " 522.3460935030694,\n",
       " 522.3431523963352,\n",
       " 522.339966893917,\n",
       " 522.3365172762302,\n",
       " 522.3327892112375,\n",
       " 522.3287657305654,\n",
       " 522.3244306695253,\n",
       " 522.3197997790459,\n",
       " 522.315093825762,\n",
       " 522.3102340671716,\n",
       " 522.3052029211909,\n",
       " 522.2999643676059,\n",
       " 522.2944830017002,\n",
       " 522.2887370590832,\n",
       " 522.2827023439527,\n",
       " 522.2763114010158,\n",
       " 522.2695026428834,\n",
       " 522.2622116071177,\n",
       " 522.2543738621009,\n",
       " 522.2459250064948,\n",
       " 522.2368097435628,\n",
       " 522.226971225213,\n",
       " 522.2163532890602,\n",
       " 522.2048949080316,\n",
       " 522.1925312183466,\n",
       " 522.1792218704081,\n",
       " 522.1649236357281,\n",
       " 522.1495042060042,\n",
       " 522.1329609921303,\n",
       " 522.1152384705199,\n",
       " 522.0967569703917,\n",
       " 522.0784033769352,\n",
       " 522.0617153587712,\n",
       " 522.0462748263949,\n",
       " 522.0315488190984,\n",
       " 522.0173441203425,\n",
       " 522.0034794204353,\n",
       " 521.9898575452689,\n",
       " 521.9764190586185,\n",
       " 521.963322380873,\n",
       " 521.9507412123237,\n",
       " 521.9384734598025,\n",
       " 521.9264740254353,\n",
       " 521.9147905188333,\n",
       " 521.9035755336733,\n",
       " 521.893614177531,\n",
       " 521.8848228326066,\n",
       " 521.8768208216579,\n",
       " 521.8693941630929,\n",
       " 521.8624359989731,\n",
       " 521.8558802813704,\n",
       " 521.8496791693283,\n",
       " 521.8438647261108,\n",
       " 521.8385017009409,\n",
       " 521.8334345333712,\n",
       " 521.8285926532767,\n",
       " 521.82394217773,\n",
       " 521.8194616860114,\n",
       " 521.8151469413062,\n",
       " 521.8109778062765,\n",
       " 521.8069394283515,\n",
       " 521.8030202037002,\n",
       " 521.7992114329973,\n",
       " 521.7955039956502,\n",
       " 521.7919108022829,\n",
       " 521.788419264163,\n",
       " 521.7850206185925,\n",
       " 521.7816949673338,\n",
       " 521.7784192296849,\n",
       " 521.7751979825703,\n",
       " 521.7720995212655,\n",
       " 521.7691020053479,\n",
       " 521.766194334877,\n",
       " 521.7633709450372,\n",
       " 521.7606273716682,\n",
       " 521.7579587131377,\n",
       " 521.7553769028582,\n",
       " 521.7528780879211,\n",
       " 521.7504567521389,\n",
       " 521.7481199826535,\n",
       " 521.7458672613076,\n",
       " 521.7436914183695,\n",
       " 521.7415879173016,\n",
       " 521.7395517168266,\n",
       " 521.7375781537863,\n",
       " 521.7356643593143,\n",
       " 521.733805952797,\n",
       " 521.7320001257663,\n",
       " 521.7302425922383,\n",
       " 521.7285304141225,\n",
       " 521.7268618296924,\n",
       " 521.7252343667909,\n",
       " 521.723645391633,\n",
       " 521.7220942129113,\n",
       " 521.7205915310527,\n",
       " 521.7191716870866,\n",
       " 521.7178153981438,\n",
       " 521.7165174901235,\n",
       " 521.7152733159988,\n",
       " 521.7140764421549,\n",
       " 521.7129181601774,\n",
       " 521.7117927501148,\n",
       " 521.7106865318942,\n",
       " 521.7095891848064,\n",
       " 521.7084960944297,\n",
       " 521.7074025775306,\n",
       " 521.7063067987856,\n",
       " 521.7052067280281,\n",
       " 521.7041004238276,\n",
       " 521.7029840773936,\n",
       " 521.7018565856906,\n",
       " 521.7007163305722,\n",
       " 521.6995618858818,\n",
       " 521.6983919365023,\n",
       " 521.6972052696473,\n",
       " 521.6960067151392,\n",
       " 521.6947917592432,\n",
       " 521.6935564509126,\n",
       " 521.6922994202228,\n",
       " 521.6910352094627,\n",
       " 521.6897925018577,\n",
       " 521.688560576367,\n",
       " 521.6873332484291,\n",
       " 521.6861073558612,\n",
       " 521.6848806916636,\n",
       " 521.6836515522143,\n",
       " 521.6824183905151,\n",
       " 521.6811795092538,\n",
       " 521.6799376820402,\n",
       " 521.6786887477338,\n",
       " 521.6774311906363,\n",
       " 521.6761636419028,\n",
       " 521.6748843632611,\n",
       " 521.6736029946455,\n",
       " 521.6723541969648,\n",
       " 521.6711155168457,\n",
       " 521.6698802608457,\n",
       " 521.6686431634162,\n",
       " 521.6674044273495,\n",
       " 521.6661597346801,\n",
       " 521.664905958605,\n",
       " 521.6636406690486,\n",
       " 521.66236131725,\n",
       " 521.6610647355928,\n",
       " 521.6597492253959,\n",
       " 521.6584116845975,\n",
       " 521.6570498202726,\n",
       " 521.6556594632041,\n",
       " 521.6542386816085,\n",
       " 521.6527841429288,\n",
       " 521.6512902215206,\n",
       " 521.6497540973046,\n",
       " 521.6481710831582,\n",
       " 521.6465352862022,\n",
       " 521.6448390321185,\n",
       " 521.6430734623357,\n",
       " 521.6412306587883,\n",
       " 521.6393018382048,\n",
       " 521.6372782159941,\n",
       " 521.6351486885058,\n",
       " 521.632900319762,\n",
       " 521.6305218730398,\n",
       " 521.6279968172041,\n",
       " 521.6252850498125,\n",
       " 521.622340337683,\n",
       " 521.6191137761471,\n",
       " 521.6155578259135,\n",
       " 521.6116149457242,\n",
       " 521.6072185428111,\n",
       " 521.6022916511195,\n",
       " 521.5967613966768,\n",
       " 521.5905285427582,\n",
       " 521.5834701534204,\n",
       " 521.575437993661,\n",
       " 521.5662542687742,\n",
       " 521.5556944857233,\n",
       " 521.5435127592234,\n",
       " 521.5311613540148,\n",
       " 521.5199603728031,\n",
       " 521.5092800727726,\n",
       " 521.4992042609126,\n",
       " 521.4895975124706,\n",
       " 521.4804147252264,\n",
       " 521.4715030116674,\n",
       " 521.4627763280095,\n",
       " 521.4541677469698,\n",
       " 521.4455763108521,\n",
       " 521.4369017740621,\n",
       " 521.4280517076922,\n",
       " 521.4189444920305,\n",
       " 521.4094815903258,\n",
       " 521.3995361331932,\n",
       " 521.3890023680324,\n",
       " 521.3779414113593,\n",
       " 521.3663418171692,\n",
       " 521.3539975976968,\n",
       " 521.3406478980787,\n",
       " 521.3260537300779,\n",
       " 521.3099735920698,\n",
       " 521.2921372154169,\n",
       " 521.2721925056013,\n",
       " 521.249800708656,\n",
       " 521.226150915408,\n",
       " 521.2051117058917,\n",
       " 521.1849772200553,\n",
       " 521.1653050701472,\n",
       " 521.1457144184062,\n",
       " 521.126009624151,\n",
       " 521.105950950662,\n",
       " 521.0856533436652,\n",
       " 521.064659982505,\n",
       " 521.0423759844289,\n",
       " 521.018382833041,\n",
       " 520.9922753555467,\n",
       " 520.9639041180476,\n",
       " 520.9353610668259,\n",
       " 520.9057424975564,\n",
       " 520.8748163918258,\n",
       " 520.8425581091944,\n",
       " 520.8096781945425,\n",
       " 520.7773431153599,\n",
       " 520.7454564624983,\n",
       " 520.7141438518149,\n",
       " 520.6834643828092,\n",
       " 520.6536771832411,\n",
       " 520.6247440830089,\n",
       " 520.5966424946686,\n",
       " 520.5694299634758,\n",
       " 520.5429354547177,\n",
       " 520.5169978099045,\n",
       " 520.4921441330036,\n",
       " 520.4684623453053,\n",
       " 520.4455568983974,\n",
       " 520.424327502597,\n",
       " 520.4039095132999,\n",
       " 520.3839689637596,\n",
       " 520.364358376474,\n",
       " 520.3451633127066,\n",
       " 520.3262015874348,\n",
       " 520.307312877425,\n",
       " 520.2883778400653,\n",
       " 520.2692950324956,\n",
       " 520.2499521525917,\n",
       " 520.2304195249335,\n",
       " 520.2106698025158,\n",
       " 520.1906514394359,\n",
       " 520.171700321684,\n",
       " 520.1538404988315,\n",
       " 520.1369594486217,\n",
       " 520.1207252591232,\n",
       " 520.1049793194525,\n",
       " 520.0895950304662,\n",
       " 520.0744723030172,\n",
       " 520.059527960146,\n",
       " 520.0446725208858,\n",
       " 520.0298220387941,\n",
       " 520.0149111996012,\n",
       " 519.9998730575169,\n",
       " 519.9845489313901,\n",
       " 519.9686719312206,\n",
       " 519.9520523173121,\n",
       " 519.934955407082,\n",
       " 519.9190602218389,\n",
       " 519.903558991472,\n",
       " 519.8883230761969,\n",
       " 519.8735097524557,\n",
       " 519.8598443480037,\n",
       " 519.8469019187787,\n",
       " 519.8345898060595,\n",
       " 519.8227900589089,\n",
       " 519.8115037162406,\n",
       " 519.8015987339704,\n",
       " 519.7926940803783,\n",
       " 519.7846072583809,\n",
       " 519.7774076754987,\n",
       " 519.771055349649,\n",
       " 519.7653584902871,\n",
       " 519.7601897804959,\n",
       " 519.755466008661,\n",
       " 519.7511285949132,\n",
       " 519.7471416900444,\n",
       " 519.7434896534346,\n",
       " 519.7401213813359,\n",
       " 519.7370093449393,\n",
       " 519.7341523820587,\n",
       " 519.7315236680518,\n",
       " 519.7291027544087,\n",
       " 519.726870939979,\n",
       " 519.724811461834,\n",
       " 519.7229533085856,\n",
       " 519.7212817355902,\n",
       " 519.7198657944178,\n",
       " 519.7186350140267,\n",
       " 519.7175475464217,\n",
       " 519.716577130897,\n",
       " 519.7157063587725,\n",
       " 519.7149217724437,\n",
       " 519.7142124070245,\n",
       " 519.7135692839105,\n",
       " 519.7129854290004,\n",
       " 519.7124541160118,\n",
       " 519.7119701536747,\n",
       " 519.7115280764172,\n",
       " 519.7111232297584,\n",
       " 519.710752541932,\n",
       " 519.7104120126697,\n",
       " 519.710098737325,\n",
       " 519.7098103390009,\n",
       " 519.7095446550944,\n",
       " 519.709300182815,\n",
       " 519.7090774859194,\n",
       " 519.7088737461883,\n",
       " 519.7086873808339,\n",
       " 519.7085163581455,\n",
       " 519.7083592900649,\n",
       " 519.7082145470347,\n",
       " 519.7080812803417,\n",
       " 519.7079583179948,\n",
       " 519.7078446885012,\n",
       " 519.7077394163692,\n",
       " 519.7076421152997,\n",
       " 519.7075518457885,\n",
       " 519.7074680070416,\n",
       " 519.7073900402237,\n",
       " 519.7073176436686,\n",
       " 519.7072499211303,\n",
       " 519.7071868718687,\n",
       " 519.707127751015,\n",
       " 519.7070726137567,\n",
       " 519.7070211011523,\n",
       " 519.7069723592062,\n",
       " 519.7069270259954,\n",
       " 519.7068843141833,\n",
       " 519.7068440695389,\n",
       " 519.7068061042891,\n",
       " 519.7067702511024,\n",
       " 519.7067364350631,\n",
       " 519.7067044113295,\n",
       " 519.7066740655227,\n",
       " 519.7066452993765,\n",
       " 519.7066180540463,\n",
       " 519.7065920247996,\n",
       " 519.7065673999801,\n",
       " 519.7065439092612,\n",
       " 519.7065214819645,\n",
       " 519.7065001087176,\n",
       " 519.7064796261521,\n",
       " 519.7064600940628,\n",
       " 519.7064413813246,\n",
       " 519.7064234413906,\n",
       " 519.7064062600084,\n",
       " 519.7063897622929,\n",
       " 519.7063739449225,\n",
       " 519.7063587180171,\n",
       " 519.7063441089156,\n",
       " 519.7063300613561,\n",
       " 519.7063165870672,\n",
       " 519.7063036928175,\n",
       " 519.7062912786805,\n",
       " 519.7062793075424,\n",
       " 519.7062677588859,\n",
       " 519.7062567008129,\n",
       " 519.7062459730139,\n",
       " 519.7062356509684,\n",
       " 519.7062256359548,\n",
       " 519.7062160045135,\n",
       " 519.706206872162,\n",
       " 519.7061978751498,\n",
       " 519.7061892283184,\n",
       " 519.706180939766,\n",
       " 519.7061728255455,\n",
       " 519.7061650549687,\n",
       " 519.7061574340944,\n",
       " 519.7061501840408,\n",
       " 519.7061430239648,\n",
       " 519.7061362103581,\n",
       " 519.706129532954,\n",
       " 519.7061231159006,\n",
       " 519.7061168884806,\n",
       " 519.7061108992043,\n",
       " 519.706104905665,\n",
       " 519.7060993217403,\n",
       " 519.7060938189255,\n",
       " 519.7060885474348,\n",
       " 519.7060834817128]"
      ]
     },
     "execution_count": 284,
     "metadata": {},
     "output_type": "execute_result"
    }
   ],
   "source": [
    "dict_lr.error_"
   ]
  },
  {
   "cell_type": "code",
   "execution_count": 285,
   "metadata": {},
   "outputs": [
    {
     "data": {
      "text/plain": [
       "(20, 200)"
      ]
     },
     "execution_count": 285,
     "metadata": {},
     "output_type": "execute_result"
    }
   ],
   "source": [
    "X.shape"
   ]
  },
  {
   "cell_type": "code",
   "execution_count": 286,
   "metadata": {},
   "outputs": [
    {
     "data": {
      "text/plain": [
       "{'alpha': 0.5,\n",
       " 'code_init': None,\n",
       " 'dict_init': None,\n",
       " 'fit_algorithm': 'cd',\n",
       " 'max_iter': 1000,\n",
       " 'n_components': 20,\n",
       " 'n_jobs': None,\n",
       " 'positive_code': True,\n",
       " 'positive_dict': False,\n",
       " 'random_state': None,\n",
       " 'split_sign': False,\n",
       " 'tol': 1e-08,\n",
       " 'transform_algorithm': 'lasso_cd',\n",
       " 'transform_alpha': None,\n",
       " 'transform_max_iter': 1000,\n",
       " 'transform_n_nonzero_coefs': None,\n",
       " 'verbose': False}"
      ]
     },
     "execution_count": 286,
     "metadata": {},
     "output_type": "execute_result"
    }
   ],
   "source": [
    "dict_lr.get_params()"
   ]
  },
  {
   "cell_type": "code",
   "execution_count": 101,
   "metadata": {},
   "outputs": [
    {
     "data": {
      "text/plain": [
       "(200, 50)"
      ]
     },
     "execution_count": 101,
     "metadata": {},
     "output_type": "execute_result"
    }
   ],
   "source": [
    "data2.shape"
   ]
  },
  {
   "cell_type": "code",
   "execution_count": 172,
   "metadata": {},
   "outputs": [
    {
     "name": "stdout",
     "output_type": "stream",
     "text": [
      "4000\n",
      "(400000, 50)\n"
     ]
    }
   ],
   "source": [
    "y = y.T\n",
    "batch_size = 100\n",
    "n_epochs = 200\n",
    "n_batches = y.shape[0] // batch_size\n",
    "print(n_batches) \n",
    "# print(data.shape)\n",
    "# data2 = data.T\n",
    "# print(data2.shape)\n",
    "print(y.shape)"
   ]
  },
  {
   "cell_type": "code",
   "execution_count": 173,
   "metadata": {},
   "outputs": [],
   "source": [
    "# dico = MiniBatchDictionaryLearning(n_components=100,\n",
    "#                                    alpha=2,\n",
    "#                                    n_iter=1,  # epoch per partial_fit()\n",
    "#                                    batch_size = batch_size,\n",
    "#                                    transform_algorithm='omp')\n",
    "\n",
    "dico = MiniBatchDictionaryLearning(n_components=1000, alpha=1, fit_algorithm='cd',\n",
    "                                    transform_algorithm='lasso_cd', batch_size=batch_size,\n",
    "                                    positive_code=True, positive_dict=False, \n",
    "                                    transform_alpha=0.5, n_iter=1, dict_init=np.random.rand(1000, 50), verbose=False)"
   ]
  },
  {
   "cell_type": "code",
   "execution_count": null,
   "metadata": {
    "scrolled": false
   },
   "outputs": [],
   "source": [
    "n_updates = 0\n",
    "for epoch in range(n_epochs):\n",
    "    for i in range(n_batches):\n",
    "        batch = y[i * batch_size:(i + 1) * batch_size, :]\n",
    "#         print(batch.shape)\n",
    "        dico.partial_fit(batch)\n",
    "        n_updates += 1\n",
    "    if epoch % 10 == 0:\n",
    "        print(epoch)\n",
    "        A = dico.transform(y)\n",
    "        Phi = dico.components_\n",
    "        rec = np.dot(A, Phi)\n",
    "        err = np.sqrt(np.sum((rec - y)**2))\n",
    "        print(err)\n",
    "#         if n_updates % 100 == 0:\n",
    "#             print(n_updates)\n",
    "#             img_r = reconstruct_y(dico, dico.components_, data)\n",
    "#             err = np.sqrt(np.sum((img - img_r)**2))\n",
    "#             print(\"[epoch #%02d] Err = %s\" % (epoch, err))"
   ]
  },
  {
   "cell_type": "code",
   "execution_count": 163,
   "metadata": {},
   "outputs": [
    {
     "data": {
      "text/plain": [
       "array([[ 0.10036991, -0.05454035,  0.01262739, ...,  0.01002933,\n",
       "        -0.02785242,  0.03237975],\n",
       "       [ 0.00546918,  0.06967623,  0.01356061, ..., -0.07017622,\n",
       "        -0.04759013,  0.0393827 ],\n",
       "       [ 0.06080036,  0.05061232, -0.03378354, ..., -0.01442783,\n",
       "         0.04665799, -0.10511568],\n",
       "       ...,\n",
       "       [ 0.02303349,  0.10678266, -0.07828612, ..., -0.07739136,\n",
       "        -0.02156586,  0.0167452 ],\n",
       "       [ 0.06612426,  0.01030537,  0.02987888, ...,  0.14919822,\n",
       "         0.09065454,  0.15398825],\n",
       "       [ 0.07971635, -0.04073994,  0.0323953 , ...,  0.06976634,\n",
       "         0.01226441, -0.00444214]])"
      ]
     },
     "execution_count": 163,
     "metadata": {},
     "output_type": "execute_result"
    }
   ],
   "source": [
    "dico.components_"
   ]
  },
  {
   "cell_type": "code",
   "execution_count": 164,
   "metadata": {},
   "outputs": [],
   "source": [
    "A = dico.transform(data2)"
   ]
  },
  {
   "cell_type": "code",
   "execution_count": 165,
   "metadata": {},
   "outputs": [],
   "source": [
    "Phi = dico.components_"
   ]
  },
  {
   "cell_type": "code",
   "execution_count": 166,
   "metadata": {},
   "outputs": [
    {
     "data": {
      "text/plain": [
       "(300, 50)"
      ]
     },
     "execution_count": 166,
     "metadata": {},
     "output_type": "execute_result"
    }
   ],
   "source": [
    "Phi.shape"
   ]
  },
  {
   "cell_type": "code",
   "execution_count": 167,
   "metadata": {},
   "outputs": [
    {
     "data": {
      "text/plain": [
       "(200, 300)"
      ]
     },
     "execution_count": 167,
     "metadata": {},
     "output_type": "execute_result"
    }
   ],
   "source": [
    "A.shape"
   ]
  },
  {
   "cell_type": "code",
   "execution_count": 168,
   "metadata": {},
   "outputs": [],
   "source": [
    "rec = np.dot(A, Phi)"
   ]
  },
  {
   "cell_type": "code",
   "execution_count": 169,
   "metadata": {},
   "outputs": [
    {
     "data": {
      "text/plain": [
       "array([ 3.75886636e-01,  2.24553743e-01, -3.70932979e-01,  1.09451068e-01,\n",
       "        3.10486055e-01, -3.99614869e-02, -4.46927550e-01, -1.60611548e-01,\n",
       "       -6.07217146e-04, -5.90525071e-01,  2.50421863e-01, -1.32876475e-01,\n",
       "       -5.00726720e-01,  1.31800143e-01, -8.54400835e-03,  1.04260822e-02,\n",
       "        9.17098227e-02, -1.15029049e-01, -7.59414093e-01, -1.09472129e-01,\n",
       "       -1.50518099e-02, -2.99281589e-01, -1.39568334e-01, -2.08013810e-01,\n",
       "       -1.72552554e-01, -1.69284779e+00, -6.90153487e-01,  8.90323554e-02,\n",
       "       -3.78887869e-01, -1.75604149e-01,  3.60378272e+00, -1.67226567e-01,\n",
       "       -4.70233099e-01, -2.84914581e-01,  5.84511327e-04,  6.71004671e-03,\n",
       "        1.59896180e-01, -1.42906580e-01,  1.08618776e-02, -4.87610763e-02,\n",
       "       -2.68653761e-01, -1.41648636e-01, -3.12578530e-01, -4.10955380e-02,\n",
       "       -3.97983774e-01,  1.68968516e-01,  2.50368148e-03, -1.65645163e-01,\n",
       "       -1.03549906e-01, -7.06740166e-01])"
      ]
     },
     "execution_count": 169,
     "metadata": {},
     "output_type": "execute_result"
    }
   ],
   "source": [
    "rec[0]"
   ]
  },
  {
   "cell_type": "code",
   "execution_count": 170,
   "metadata": {
    "scrolled": true
   },
   "outputs": [
    {
     "data": {
      "text/plain": [
       "array([ 4.1800e-01,  2.4968e-01, -4.1242e-01,  1.2170e-01,  3.4527e-01,\n",
       "       -4.4457e-02, -4.9688e-01, -1.7862e-01, -6.6023e-04, -6.5660e-01,\n",
       "        2.7843e-01, -1.4767e-01, -5.5677e-01,  1.4658e-01, -9.5095e-03,\n",
       "        1.1658e-02,  1.0204e-01, -1.2792e-01, -8.4430e-01, -1.2181e-01,\n",
       "       -1.6801e-02, -3.3279e-01, -1.5520e-01, -2.3131e-01, -1.9181e-01,\n",
       "       -1.8823e+00, -7.6746e-01,  9.9051e-02, -4.2125e-01, -1.9526e-01,\n",
       "        4.0071e+00, -1.8594e-01, -5.2287e-01, -3.1681e-01,  5.9213e-04,\n",
       "        7.4449e-03,  1.7778e-01, -1.5897e-01,  1.2041e-02, -5.4223e-02,\n",
       "       -2.9871e-01, -1.5749e-01, -3.4758e-01, -4.5637e-02, -4.4251e-01,\n",
       "        1.8785e-01,  2.7849e-03, -1.8411e-01, -1.1514e-01, -7.8581e-01])"
      ]
     },
     "execution_count": 170,
     "metadata": {},
     "output_type": "execute_result"
    }
   ],
   "source": [
    "data2[0]"
   ]
  },
  {
   "cell_type": "code",
   "execution_count": 171,
   "metadata": {},
   "outputs": [
    {
     "data": {
      "text/plain": [
       "2.7609516750327616"
      ]
     },
     "execution_count": 171,
     "metadata": {},
     "output_type": "execute_result"
    }
   ],
   "source": [
    "np.sum(np.abs(rec - data2)) / 200"
   ]
  },
  {
   "cell_type": "code",
   "execution_count": 150,
   "metadata": {},
   "outputs": [
    {
     "data": {
      "text/plain": [
       "array([0.        , 0.        , 0.        , 0.        , 0.        ,\n",
       "       0.        , 0.        , 0.        , 0.        , 0.        ,\n",
       "       0.        , 0.        , 0.        , 0.        , 0.        ,\n",
       "       0.        , 0.        , 0.        , 0.        , 0.        ,\n",
       "       0.        , 0.        , 0.        , 0.        , 0.        ,\n",
       "       0.        , 0.        , 0.        , 0.        , 0.        ,\n",
       "       0.        , 0.        , 0.        , 0.        , 0.        ,\n",
       "       0.        , 0.        , 0.        , 0.        , 0.        ,\n",
       "       0.        , 0.        , 0.        , 0.        , 0.        ,\n",
       "       0.        , 0.        , 0.        , 0.        , 0.        ,\n",
       "       0.        , 0.        , 0.        , 0.        , 0.        ,\n",
       "       0.        , 0.        , 0.        , 0.        , 0.        ,\n",
       "       0.        , 0.        , 0.        , 0.        , 0.        ,\n",
       "       0.        , 0.        , 0.        , 0.        , 0.        ,\n",
       "       0.        , 0.        , 0.        , 0.        , 0.        ,\n",
       "       0.        , 0.        , 0.        , 0.        , 0.        ,\n",
       "       0.        , 0.        , 0.        , 0.        , 0.        ,\n",
       "       0.        , 0.        , 0.        , 0.        , 0.        ,\n",
       "       0.        , 0.        , 0.        , 0.        , 0.        ,\n",
       "       0.        , 0.        , 0.        , 0.        , 0.        ,\n",
       "       0.        , 0.        , 0.        , 0.        , 0.        ,\n",
       "       0.        , 0.        , 0.        , 0.        , 0.        ,\n",
       "       0.        , 0.        , 0.        , 0.        , 0.        ,\n",
       "       0.        , 0.        , 0.        , 0.        , 0.        ,\n",
       "       0.        , 0.        , 0.        , 0.        , 0.        ,\n",
       "       0.        , 0.        , 0.        , 0.        , 0.        ,\n",
       "       0.        , 0.        , 0.        , 0.        , 0.        ,\n",
       "       0.        , 0.        , 0.        , 0.        , 0.        ,\n",
       "       0.        , 0.        , 0.        , 0.        , 0.        ,\n",
       "       0.        , 0.        , 0.        , 0.        , 0.        ,\n",
       "       0.        , 0.        , 0.        , 0.        , 0.        ,\n",
       "       0.        , 0.        , 0.        , 0.        , 0.        ,\n",
       "       0.        , 0.        , 0.        , 0.        , 0.        ,\n",
       "       0.        , 5.35095566, 0.        , 0.        , 0.        ,\n",
       "       0.        , 0.        , 0.        , 0.        , 0.        ,\n",
       "       0.        , 0.        , 0.        , 0.        , 0.        ,\n",
       "       0.        , 0.        , 0.        , 0.        , 0.        ,\n",
       "       0.        , 0.        , 0.        , 0.        , 0.        ,\n",
       "       0.        , 0.        , 0.        , 0.        , 0.        ,\n",
       "       0.        , 0.        , 0.        , 0.        , 0.        ,\n",
       "       0.        , 0.        , 0.        , 0.        , 0.        ,\n",
       "       0.        , 0.        , 0.        , 0.        , 0.        ,\n",
       "       0.        , 0.        , 0.        , 0.        , 0.        ,\n",
       "       0.        , 0.        , 0.        , 0.        , 0.        ,\n",
       "       0.        , 0.        , 0.        , 0.        , 0.        ,\n",
       "       0.        , 0.        , 0.        , 0.        , 0.        ,\n",
       "       0.        , 0.        , 0.        , 0.        , 0.        ,\n",
       "       0.        , 0.        , 0.        , 0.        , 0.        ,\n",
       "       0.        , 0.        , 0.        , 0.        , 0.        ,\n",
       "       0.        , 0.        , 0.        , 0.        , 0.        ,\n",
       "       0.        , 0.        , 0.        , 0.        , 0.        ,\n",
       "       0.        , 0.        , 0.        , 0.        , 0.        ,\n",
       "       0.        , 0.        , 0.        , 0.        , 0.        ,\n",
       "       0.        , 0.        , 0.        , 0.        , 0.        ,\n",
       "       0.        , 0.        , 0.        , 0.        , 0.        ,\n",
       "       0.        , 0.        , 0.        , 0.        , 0.        ,\n",
       "       0.        , 0.        , 0.        , 0.        , 0.        ,\n",
       "       0.        , 0.        , 0.        , 0.        , 0.        ,\n",
       "       0.        , 0.        , 0.        , 0.        , 0.        ,\n",
       "       0.        , 0.        , 0.        , 0.        , 0.        ])"
      ]
     },
     "execution_count": 150,
     "metadata": {},
     "output_type": "execute_result"
    }
   ],
   "source": [
    "A[8]"
   ]
  },
  {
   "cell_type": "code",
   "execution_count": null,
   "metadata": {},
   "outputs": [],
   "source": []
  }
 ],
 "metadata": {
  "kernelspec": {
   "display_name": "Python 3",
   "language": "python",
   "name": "python3"
  },
  "language_info": {
   "codemirror_mode": {
    "name": "ipython",
    "version": 3
   },
   "file_extension": ".py",
   "mimetype": "text/x-python",
   "name": "python",
   "nbconvert_exporter": "python",
   "pygments_lexer": "ipython3",
   "version": "3.7.7"
  }
 },
 "nbformat": 4,
 "nbformat_minor": 4
}
